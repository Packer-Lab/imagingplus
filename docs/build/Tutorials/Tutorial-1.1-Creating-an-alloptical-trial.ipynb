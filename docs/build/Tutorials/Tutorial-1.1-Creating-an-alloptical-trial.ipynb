{
 "cells": [
  {
   "cell_type": "code",
   "execution_count": null,
   "metadata": {
    "collapsed": true
   },
   "outputs": [],
   "source": []
  },
  {
   "cell_type": "markdown",
   "metadata": {
    "collapsed": false
   },
   "source": [
    "## Creating an experiment - UPDATED MAR 29 2022"
   ]
  },
  {
   "cell_type": "markdown",
   "metadata": {
    "collapsed": false
   },
   "source": [
    "The first step towards starting the analysis pipeline and creating the `Experiment` object is to create a dictionary (`ExperimentMetainfo`) to collect the metadata fields required for initializing `Experiment`. In `ExperimentMetainfo`, we provide initial information about the experiment."
   ]
  },
  {
   "cell_type": "code",
   "execution_count": 1,
   "metadata": {
    "collapsed": false,
    "pycharm": {
     "name": "#%%\n"
    }
   },
   "outputs": [
    {
     "name": "stdout",
     "output_type": "stream",
     "text": [
      "Warning: cellpose did not import\n",
      "No module named 'cellpose'\n",
      "cannot use anatomical mode, but otherwise suite2p will run normally\n",
      "\n",
      "imported packerlabimaging successfully\n",
      "\tversion: 0.1-alpha\n",
      "\n",
      "\n",
      "|- Loaded packerlabimaging.Experiment object (date: 2020-12-19, expID: RL109)kl ... \n",
      "\n"
     ]
    }
   ],
   "source": [
    "import os\n",
    "\n",
    "import packerlabimaging as pli\n",
    "from packerlabimaging.main.paq import PaqData\n",
    "from packerlabimaging.processing.imagingMetadata import PrairieViewMetadata\n",
    "\n",
    "LOCAL_DATA_PATH = '/Users/prajayshah/data/oxford-data-to-process/'\n",
    "REMOTE_DATA_PATH = '/home/pshah/mnt/qnap/Data/'\n",
    "BASE_PATH = LOCAL_DATA_PATH\n",
    "\n",
    "ExperimentMetainfo = {\n",
    "    'dataPath': f'{BASE_PATH}/2020-12-19/2020-12-19_t-013/2020-12-19_t-013_Cycle00001_Ch3.tif',\n",
    "    'saveDir': f'{BASE_PATH}/2020-12-19/',\n",
    "    'expID': 'RL109',\n",
    "    'comment': 'two photon imaging + alloptical trials',\n",
    "}\n",
    "\n",
    "# create the experiment\n",
    "# expobj = pli.Experiment(**ExperimentMetainfo)\n",
    "\n"
   ]
  },
  {
   "cell_type": "markdown",
   "metadata": {
    "collapsed": false
   },
   "source": [
    "Once created, the new Experiment gets saved to the disk using python's pickle protocol at the location specified in the options while creating the Experiment."
   ]
  },
  {
   "cell_type": "code",
   "execution_count": 3,
   "metadata": {
    "collapsed": false,
    "pycharm": {
     "name": "#%%\n"
    }
   },
   "outputs": [
    {
     "name": "stdout",
     "output_type": "stream",
     "text": [
      "\n",
      "\\- loading /home/pshah/Documents/code/packerlabimaging/tests/RL109_analysis.pkl ... \r",
      "|- Loaded packerlabimaging.Experiment object (date: 2020-12-19, expID: RL109)\n",
      "\n"
     ]
    }
   ],
   "source": [
    "# we can now load the new expobj from disk storage using pickle in pli.import_obj():\n",
    "expobj = pli.import_obj('/home/pshah/Documents/code/packerlabimaging/tests/RL109_analysis.pkl')"
   ]
  },
  {
   "cell_type": "code",
   "execution_count": 4,
   "metadata": {
    "collapsed": false,
    "pycharm": {
     "name": "#%%\n"
    }
   },
   "outputs": [
    {
     "name": "stdout",
     "output_type": "stream",
     "text": [
      "\n",
      "\t|- Experiment analysis object saved to /home/pshah/Documents/code/packerlabimaging/tests/RL109_analysis.pkl -- \n"
     ]
    }
   ],
   "source": [
    "# to save the Experiment to disk using pickle from `expobj.save()`:\n",
    "expobj.save()\n",
    "\n",
    "# to save the Experiment with a custom path, simply provide a custom .pkl path and use the .save_pkl() method:\n",
    "expobj.save_pkl(pkl_path='/home/pshah/mnt/qnap/Analysis/2021-01-25/PS12/PS12_new_path.pkl')"
   ]
  },
  {
   "cell_type": "markdown",
   "metadata": {
    "collapsed": false
   },
   "source": [
    "## Adding trials to an experiment"
   ]
  },
  {
   "cell_type": "markdown",
   "metadata": {
    "collapsed": false
   },
   "source": [
    "After creating the initial `expobj` experiment, we move onto loading each trial from the experiment.\n",
    "\n",
    "There is a built-in `ImagingTrial` workflow for data processing and analysis of an all optical imaging experiment trial called `AllOpticalTrial`. This extends the `TwoPhotonImaging` trial workflow.\n",
    "\n",
    "The `AllOpticalTrial` is setup in an analogous manner as the `TwoPhotonImaging` workflow. In addition to the fields required for the `TwoPhotonImaging` trial, we supply additional fields that allow for addition of all-optical specific sub-modules. In particular, we supply a `naparm_path` which triggers the workflow to run the `naparm` analysis sub-module for analysis of 2-photon photostimulation protocols setup by NAPARM during the all-optical experiment."
   ]
  },
  {
   "cell_type": "code",
   "execution_count": null,
   "metadata": {
    "collapsed": false,
    "pycharm": {
     "name": "#%%\n"
    }
   },
   "outputs": [],
   "source": [
    "initialization_dict = {'naparm_path': f'{BASE_PATH}/2020-12-19/photostim/2020-12-19_RL109_ps_014/',\n",
    "                               'dataPath': f'{BASE_PATH}/2020-12-19/2020-12-19_t-013/2020-12-19_t-013_Cycle00001_Ch3.tif',\n",
    "                               'saveDir': f'{BASE_PATH}/2020-12-19/',\n",
    "                               'date': '2020-12-19',\n",
    "                               'trialID': 't-013',\n",
    "                               'expID': 'RL109',\n",
    "                               'expGroup': 'all optical trial with LFP',\n",
    "                               'comment': ''}\n"
   ]
  },
  {
   "cell_type": "code",
   "execution_count": null,
   "metadata": {
    "collapsed": false,
    "pycharm": {
     "name": "#%%\n"
    }
   },
   "outputs": [],
   "source": [
    "from packerlabimaging import AllOpticalTrial\n",
    "\n",
    "# create the all optical trial\n",
    "paqs_loc = f'{BASE_PATH}/2020-12-19/2020-12-19_RL109_013.paq'  # path to the .paq files for the selected trials\n",
    "dataPath = initialization_dict['dataPath']\n",
    "\n",
    "imparams = PrairieViewMetadata(pv_xml_dir=os.path.dirname(dataPath), microscope='Bruker 2pPlus')\n",
    "tmdata = PaqData.paqProcessingTwoPhotonImaging(paq_path=paqs_loc, frame_channel='frame_clock')\n",
    "\n",
    "aotrial = AllOpticalTrial(imparams=imparams, tmdata=tmdata, **initialization_dict)\n"
   ]
  },
  {
   "cell_type": "markdown",
   "metadata": {
    "collapsed": false,
    "pycharm": {
     "name": "#%% md\n"
    }
   },
   "source": [
    "Load in the newly created `AllOpticalTrial` object:"
   ]
  },
  {
   "cell_type": "code",
   "execution_count": null,
   "metadata": {
    "collapsed": false,
    "pycharm": {
     "name": "#%%\n"
    }
   },
   "outputs": [],
   "source": [
    "aotrial = pli.import_obj(pkl_path='')"
   ]
  },
  {
   "cell_type": "markdown",
   "metadata": {
    "collapsed": false,
    "pycharm": {
     "name": "#%% md\n"
    }
   },
   "source": [
    "As with all other `ImagingTrial` objects, each `AllOpticalTrial` object is added to the overall experiment."
   ]
  },
  {
   "cell_type": "code",
   "execution_count": null,
   "metadata": {
    "collapsed": false,
    "pycharm": {
     "name": "#%%\n"
    }
   },
   "outputs": [],
   "source": [
    "# after adding a trial to the experiment, it can be loaded using the Experiment object as well:"
   ]
  },
  {
   "cell_type": "code",
   "execution_count": null,
   "metadata": {
    "collapsed": false,
    "pycharm": {
     "name": "#%%\n"
    }
   },
   "outputs": [],
   "source": []
  }
 ],
 "metadata": {
  "kernelspec": {
   "display_name": "Python 3",
   "language": "python",
   "name": "python3"
  },
  "language_info": {
   "codemirror_mode": {
    "name": "ipython",
    "version": 2
   },
   "file_extension": ".py",
   "mimetype": "text/x-python",
   "name": "python",
   "nbconvert_exporter": "python",
   "pygments_lexer": "ipython2",
   "version": "2.7.6"
  }
 },
 "nbformat": 4,
 "nbformat_minor": 0
}

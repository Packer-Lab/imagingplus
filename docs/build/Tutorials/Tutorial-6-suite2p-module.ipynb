{
 "cells": [
  {
   "cell_type": "markdown",
   "id": "cb58e365",
   "metadata": {
    "collapsed": false,
    "pycharm": {
     "name": "#%% md\n"
    }
   },
   "source": [
    "# Tutorial 6 - Integrating with Suite2p (running Suite2p pipeline and storing results)"
   ]
  },
  {
   "cell_type": "code",
   "execution_count": 1,
   "id": "06c152e4",
   "metadata": {},
   "outputs": [
    {
     "name": "stdout",
     "output_type": "stream",
     "text": [
      "Warning: cellpose did not import\n",
      "No module named 'cellpose'\n",
      "cannot use anatomical mode, but otherwise suite2p will run normally\n"
     ]
    }
   ],
   "source": [
    "import packerlabimaging as pli\n",
    "from packerlabimaging.processing import suite2p\n",
    "\n",
    "import numpy as np"
   ]
  },
  {
   "cell_type": "markdown",
   "id": "2acccc97",
   "metadata": {
    "collapsed": false,
    "pycharm": {
     "name": "#%% md\n"
    }
   },
   "source": [
    "In this tutorial, we add the Suite2p submodule to an existing `expobj`. We also show how to run the suite2p pipeline using the `.Suite2p` submodule. Finally, we show how to access and use Suite2p results once the pipeline is run. Note: it is also possible to directly import independently run Suite2p results for this experiment (this is demonstrated in the final section).\n",
    "\n",
    "\n",
    "Suite2p provides an excellent cell (ROI) detection algorithm for calcium imaging datasets. The pipeline includes registration and spike deconvolution as well. Please familiarize yourself with the basic functionality of Suite2p using their documentation (found [here](https://suite2p.readthedocs.io/en/latest/index.html)) before proceeding with these examples below."
   ]
  },
  {
   "cell_type": "markdown",
   "id": "6441e566",
   "metadata": {
    "collapsed": false,
    "pycharm": {
     "name": "#%% md\n"
    }
   },
   "source": [
    "## Adding the Suite2p module"
   ]
  },
  {
   "cell_type": "markdown",
   "id": "f9014cd7",
   "metadata": {
    "collapsed": false,
    "pycharm": {
     "name": "#%% md\n"
    }
   },
   "source": [
    "#### Import data analysis object"
   ]
  },
  {
   "cell_type": "code",
   "execution_count": null,
   "id": "d220d3da",
   "metadata": {},
   "outputs": [],
   "source": [
    "# specify the .pkl path to import expobj\n",
    "prep = 'PS14'\n",
    "date = '2021-01-28'\n",
    "\n",
    "expobj: pli.Experiment = pli.import_obj(pkl_path=f'/home/pshah/mnt/qnap/Analysis/{date}/{prep}/{prep}_analysis.pkl')\n",
    "\n",
    "# set up new Suite2p submodule\n",
    "expobj.Suite2p = suite2p.Suite2pResultsExperiment(trialsTiffsSuite2p=expobj.Suite2p.tiff_paths_to_use_s2p,\n",
    "                                          s2pResultsPath=expobj.Suite2p.s2pResultsPath)"
   ]
  },
  {
   "cell_type": "markdown",
   "id": "05993001",
   "metadata": {
    "collapsed": false,
    "pycharm": {
     "name": "#%% md\n"
    }
   },
   "source": [
    "Set any necessary `bad_frames` to Suite2p. These frames will be ignored during the ROI detection step. In this example, we set all frames from trials from the `post-4ap` experiment group (`expGroup`) as bad frames. In other experiments, like for example all-optical experiments, we use this feature to set all photostimulation frames as `bad_frames`"
   ]
  },
  {
   "cell_type": "code",
   "execution_count": null,
   "id": "13945521",
   "metadata": {
    "collapsed": false,
    "pycharm": {
     "name": "#%%\n"
    }
   },
   "outputs": [],
   "source": [
    "# add Suite2p bad frames from post4ap trials\n",
    "expobj.Suite2p.bad_frames = []\n",
    "for trial in expobj.trialIDs:\n",
    "    if 'post' in expobj.TrialsInformation[trial]['expGroup']:\n",
    "        trialobj: pli.TwoPhotonImagingTrial = expobj.load_trial(trialID=trial)\n",
    "\n",
    "        expobj.Suite2p.add_bad_frames(frames=np.arange(trialobj.Suite2p.trial_frames[0], trialobj.Suite2p.trial_frames[1]), bad_frames_npy_loc = expobj.dataPath)"
   ]
  },
  {
   "cell_type": "markdown",
   "id": "efe7cc7c",
   "metadata": {
    "collapsed": false
   },
   "source": []
  },
  {
   "cell_type": "markdown",
   "id": "8cf2907e",
   "metadata": {
    "collapsed": false,
    "pycharm": {
     "name": "#%% md\n"
    }
   },
   "source": [
    "## Prepare for Suite2p run"
   ]
  },
  {
   "cell_type": "markdown",
   "id": "986c3b10",
   "metadata": {
    "collapsed": false,
    "pycharm": {
     "name": "#%% md\n"
    }
   },
   "source": [
    "We next need to setup the Suite2p settings to run for our particular imaging experiment. Use the `.Suite2p.update_ops(dict)` method to update any `ops` options before running to Suite2p.\n",
    "\n",
    "To get the necessary imaging metadata parameters, here we use one of the `trialobj` contained within the present `expobj` to retrieve that information."
   ]
  },
  {
   "cell_type": "code",
   "execution_count": null,
   "id": "5dd2a6c9",
   "metadata": {
    "collapsed": false,
    "pycharm": {
     "name": "#%%\n"
    }
   },
   "outputs": [],
   "source": [
    "trialobj: pli.TwoPhotonImagingTrial = expobj.load_trial(trialID=expobj.trialIDs[0])\n",
    "\n",
    "pix_sz_x = trialobj.imparams.pix_sz_x\n",
    "pix_sz_y = trialobj.imparams.pix_sz_y\n",
    "diameter_x = 13 / pix_sz_x\n",
    "diameter_y = 13 / pix_sz_y\n",
    "diameter = (int(diameter_x), int(diameter_y)) if int(diameter_y) != int(diameter_x) else int(diameter_x)\n"
   ]
  },
  {
   "cell_type": "markdown",
   "id": "b2e98894",
   "metadata": {
    "collapsed": false,
    "pycharm": {
     "name": "#%% md\n"
    }
   },
   "source": [
    "Set the new values for Suite2p by using `.Suite2p.update_ops(dict)`"
   ]
  },
  {
   "cell_type": "code",
   "execution_count": null,
   "id": "3aca1544",
   "metadata": {
    "collapsed": false,
    "pycharm": {
     "name": "#%%\n"
    }
   },
   "outputs": [],
   "source": [
    "# new values for ops dictionary\n",
    "new_ops = {\n",
    "    'fs': trialobj.imparams.fps,\n",
    "    'tau': 0.70,\n",
    "    'num_workers': 50,\n",
    "    'diameter': diameter,\n",
    "    'delete_bin': False,  # temporary not deleting binaries in case needed for further testing!\n",
    "    'batch_size': 2000,  # larger frames will be more RAM intensive, scale user batch size based on num pixels in 512x512 images\n",
    "    'save_folder': expobj.suite2p_save_path\n",
    "}\n",
    "\n",
    "expobj.Suite2p.update_ops(new_ops)\n",
    "expobj.save()\n",
    "\n",
    "print('ops:\\n', expobj.Suite2p.ops)\n",
    "print('db:\\n', expobj.Suite2p.db)"
   ]
  },
  {
   "cell_type": "markdown",
   "id": "d03cc4d8",
   "metadata": {
    "collapsed": false,
    "pycharm": {
     "name": "#%% md\n"
    }
   },
   "source": [
    "## Run Suite2p\n",
    "\n",
    "Now, we are all set to run Suite2p. We have provided the `.Suite2p.s2pRun` method as a wrapper to run the Suite2p on the current `expobj`."
   ]
  },
  {
   "cell_type": "code",
   "execution_count": null,
   "id": "ef99c997",
   "metadata": {
    "collapsed": false,
    "pycharm": {
     "name": "#%%\n"
    }
   },
   "outputs": [],
   "source": [
    "# run the suite2p pipeline\n",
    "expobj.Suite2p.s2pRun(expobj=expobj)"
   ]
  },
  {
   "cell_type": "markdown",
   "id": "55ca3480",
   "metadata": {
    "collapsed": false,
    "pycharm": {
     "name": "#%% md\n"
    }
   },
   "source": [
    "## Explore suite2p results - next steps after running Suite2p"
   ]
  },
  {
   "cell_type": "markdown",
   "id": "2ed8f377",
   "metadata": {
    "collapsed": false,
    "pycharm": {
     "name": "#%% md\n"
    }
   },
   "source": [
    "TODO"
   ]
  },
  {
   "cell_type": "code",
   "execution_count": null,
   "id": "e8d558e1",
   "metadata": {
    "collapsed": false,
    "pycharm": {
     "name": "#%%\n"
    }
   },
   "outputs": [],
   "source": []
  },
  {
   "cell_type": "markdown",
   "id": "ce488aa3",
   "metadata": {
    "collapsed": false,
    "pycharm": {
     "name": "#%% md\n"
    }
   },
   "source": [
    "## Import suite2p results directly"
   ]
  },
  {
   "cell_type": "markdown",
   "id": "a4773d8d",
   "metadata": {
    "collapsed": false,
    "pycharm": {
     "name": "#%% md\n"
    }
   },
   "source": [
    "If we had run suite2p on our experiment independent of creating the `expobj`, we can add that Suite2p output to the present `expobj` by providing a valid path to the `s2pResultsPath` argument when setting up the `.Suite2p` submodule on our `expobj`.\n",
    "\n",
    "Note: the output that is required in `s2pResultsPath` is the path to `<../plane0/>` of the Suite2p results output."
   ]
  },
  {
   "cell_type": "code",
   "execution_count": null,
   "id": "9d931a7f",
   "metadata": {
    "collapsed": false,
    "pycharm": {
     "name": "#%%\n"
    }
   },
   "outputs": [],
   "source": [
    "# specify the .pkl path to import expobj\n",
    "prep = 'PS14'\n",
    "date = '2021-01-28'\n",
    "\n",
    "expobj: pli.Experiment = pli.import_obj(pkl_path=f'/home/pshah/mnt/qnap/Analysis/{date}/{prep}/{prep}_analysis.pkl')\n",
    "\n",
    "# set up new Suite2p submodule\n",
    "expobj.Suite2p = suite2p.Suite2pResultsExperiment(trialsTiffsSuite2p=expobj.Suite2p.tiff_paths_to_use_s2p,\n",
    "                                          s2pResultsPath='<path/to/suite2p/output>')"
   ]
  }
 ],
 "metadata": {
  "kernelspec": {
   "display_name": "Python 3 (ipykernel)",
   "language": "python",
   "name": "python3"
  },
  "language_info": {
   "codemirror_mode": {
    "name": "ipython",
    "version": 3
   },
   "file_extension": ".py",
   "mimetype": "text/x-python",
   "name": "python",
   "nbconvert_exporter": "python",
   "pygments_lexer": "ipython3",
   "version": "3.9.7"
  }
 },
 "nbformat": 4,
 "nbformat_minor": 5
}

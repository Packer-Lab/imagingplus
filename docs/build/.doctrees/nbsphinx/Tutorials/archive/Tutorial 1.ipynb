{
 "cells": [
  {
   "cell_type": "code",
   "execution_count": 3,
   "metadata": {},
   "outputs": [],
   "source": [
    "from IPython import display"
   ]
  },
  {
   "cell_type": "code",
   "execution_count": 4,
   "metadata": {},
   "outputs": [],
   "source": [
    "import packerlabimaging as pkg"
   ]
  },
  {
   "cell_type": "markdown",
   "metadata": {},
   "source": [
    "This notebook demonstrates a basic workflow of using the packerlabimaging package. \n",
    "\n",
    "The fundamental types of imaging trials accepted for this workflow are: \n",
    " - 2photon imaging\n",
    " - All Optical Experiment (2photon imaging + optogenetic stimulation)\n",
    " - Suite2p processing results output\n",
    "\n",
    "This tutorial is based off an existing 2photon experiment that includes various trials of 2photon imaging and All optical experiments:"
   ]
  },
  {
   "cell_type": "code",
   "execution_count": 12,
   "metadata": {},
   "outputs": [
    {
     "data": {
      "image/png": "[encoded data removed]",
      "text/plain": [
       "<IPython.core.display.Image object>"
      ]
     },
     "execution_count": 12,
     "metadata": {},
     "output_type": "execute_result"
    }
   ],
   "source": [
    "display.Image(\"/home/pshah/Documents/code/packerlabimaging/files/packerlabimaging-tutorial-exp-outline.png\")"
   ]
  },
  {
   "cell_type": "markdown",
   "metadata": {},
   "source": [
    "![example experiment setup for package pipeline] (packerlabimaging/files/packerlabimaging-tutorial-exp-outline.png \"title\")"
   ]
  },
  {
   "cell_type": "markdown",
   "metadata": {},
   "source": [
    "### INITIALIZING ALLOPTICAL + TWOPHOTON IMAGING EXPERIMENT OBJECT FROM SCRATCH\n",
    "\n"
   ]
  },
  {
   "cell_type": "code",
   "execution_count": null,
   "metadata": {},
   "outputs": [],
   "source": [
    "# experiment dictionary\n",
    "initialization_dict = {\n",
    "    'dataPath': '/home/pshah/mnt/qnap/Data/2020-12-19',\n",
    "    'analysisSavePath': '/home/pshah/Documents/code/packerlabimaging/tests/',\n",
    "    'microscope': \"Bruker\",\n",
    "    \"expID\": 'RL109',\n",
    "    'date': '2020-12-19',\n",
    "    'comments': 'testing out analysis workflow',\n",
    "    'trialsInformation': {},\n",
    "    'useSuite2p': True,\n",
    "    's2pResultsPath': \"/home/pshah/mnt/qnap/Analysis/2020-12-19/suite2p/alloptical-2p-1x-alltrials/plane0\"\n",
    "}\n"
   ]
  },
  {
   "cell_type": "code",
   "execution_count": null,
   "metadata": {},
   "outputs": [],
   "source": [
    "# add information about each trial in experiment to trialsInformation field of the initialization_dict\n",
    "trials_list_spont = ['t-005', 't-006']\n",
    "for idx, trial in enumerate(trials_list_spont):\n",
    "    data_path_base = '/home/pshah/mnt/qnap/Data/2020-12-19'\n",
    "    animal_prep = initialization_dict['expID']\n",
    "    date = data_path_base[-10:]\n",
    "\n",
    "    ## everything below should autopopulate and run automatically\n",
    "    paqs_loc = '%s/%s_%s_%s.paq' % (data_path_base, date, animal_prep, trial[2:])  # path to the .paq files for the selected trials\n",
    "    tiffs_loc = f'{data_path_base}/{date}_{trial}/{date}_{trial}_Cycle00001_Ch3.tif'\n",
    "\n",
    "\n",
    "    initialization_dict[\"trialsInformation\"][trial] = {'trialType': 'TwoPhotonImagingTrial',\n",
    "                                       'tiff_path': f\"{tiffs_loc}\",\n",
    "                                       's2p_use': True,\n",
    "                                       'expGroup': \"pre 4ap 2p spont imaging\",\n",
    "                                       'paq_path': paqs_loc\n",
    "                                                       }\n"
   ]
  },
  {
   "cell_type": "code",
   "execution_count": null,
   "metadata": {},
   "outputs": [],
   "source": [
    "trials_list_alloptical = ['t-013']\n",
    "naparms_list = {'t-013': '/home/pshah/mnt/qnap/Data/2020-12-19/photostim/2020-12-19_RL109_ps_014/'}\n",
    "for idx, trial in enumerate(trials_list_alloptical):\n",
    "    data_path_base = '/home/pshah/mnt/qnap/Data/2020-12-19'\n",
    "    animal_prep = initialization_dict['expID']\n",
    "    date = data_path_base[-10:]\n",
    "\n",
    "    ## everything below should autopopulate and run automatically\n",
    "    paqs_loc = '%s/%s_%s_%s.paq' % (data_path_base, date, animal_prep, trial[2:])  # path to the .paq files for the selected trials\n",
    "    tiffs_loc = f'{data_path_base}/{date}_{trial}/{date}_{trial}_Cycle00001_Ch3.tif'\n",
    "\n",
    "\n",
    "    initialization_dict[\"trialsInformation\"][trial] = {'trialType': 'AllOpticalTrial',\n",
    "                                        'tiff_path': f\"{tiffs_loc}\",\n",
    "                                        's2p_use': True,\n",
    "                                        'expGroup': \"pre 4ap 2p all optical\",\n",
    "                                        'paq_path': paqs_loc,\n",
    "                                        'naparm_path': naparms_list[trial]\n",
    "                                                        }"
   ]
  }
 ],
 "metadata": {
  "kernelspec": {
   "display_name": "Python 3 (ipykernel)",
   "language": "python",
   "name": "python3"
  },
  "language_info": {
   "codemirror_mode": {
    "name": "ipython",
    "version": 3
   },
   "file_extension": ".py",
   "mimetype": "text/x-python",
   "name": "python",
   "nbconvert_exporter": "python",
   "pygments_lexer": "ipython3",
   "version": "3.9.7"
  }
 },
 "nbformat": 4,
 "nbformat_minor": 2
}

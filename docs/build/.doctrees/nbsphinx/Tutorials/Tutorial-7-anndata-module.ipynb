{
 "cells": [
  {
   "cell_type": "markdown",
   "id": "443e2484",
   "metadata": {
    "collapsed": false
   },
   "source": [
    "## Annotated Data\n",
    "\n",
    "The AnnData library is the primary protocol that is used to store imaging data in an efficient, multi-functional format. It is created using the `anndata` sub-module and can be accessed using `trialobj.data`. By default, `trialobj.data` is a data array generated from Suite2p processed data.\n",
    "For all guidance on AnnData objects, visit: https://anndata.readthedocs.io/en/latest/index.html.\n"
   ]
  },
  {
   "cell_type": "markdown",
   "id": "c43ad439",
   "metadata": {
    "collapsed": false
   },
   "source": [
    "The AnnData object is built around the raw Flu matrix of each `trialobj` . In keeping with AnnData conventions, the data structure is organized in *n* observations (obs) x *m* variables (var), where observations are suite2p ROIs and variables are imaging frame timepoints.\n"
   ]
  },
  {
   "cell_type": "code",
   "execution_count": 1,
   "id": "eb06a349",
   "metadata": {
    "collapsed": false,
    "pycharm": {
     "name": "#%%\n"
    }
   },
   "outputs": [
    {
     "ename": "AttributeError",
     "evalue": "'function' object has no attribute 'Image'",
     "output_type": "error",
     "traceback": [
      "\u001b[0;31m---------------------------------------------------------------------------\u001b[0m",
      "\u001b[0;31mAttributeError\u001b[0m                            Traceback (most recent call last)",
      "\u001b[0;32m<ipython-input-1-68750c3dff88>\u001b[0m in \u001b[0;36m<module>\u001b[0;34m\u001b[0m\n\u001b[0;32m----> 1\u001b[0;31m \u001b[0mdisplay\u001b[0m\u001b[0;34m.\u001b[0m\u001b[0mImage\u001b[0m\u001b[0;34m(\u001b[0m\u001b[0;34m\"/home/pshah/Documents/code/packerlabimaging/files/packerlabimaging-anndata-integration-01.jpg\"\u001b[0m\u001b[0;34m)\u001b[0m\u001b[0;34m\u001b[0m\u001b[0;34m\u001b[0m\u001b[0m\n\u001b[0m",
      "\u001b[0;31mAttributeError\u001b[0m: 'function' object has no attribute 'Image'"
     ]
    }
   ],
   "source": [
    "display.Image(\"/home/pshah/Documents/code/imagingplus/files/imagingplus-anndata-integration-01.jpg\")"
   ]
  },
  {
   "cell_type": "code",
   "execution_count": 1,
   "id": "b4d2c285",
   "metadata": {
    "collapsed": false,
    "pycharm": {
     "name": "#%%\n"
    }
   },
   "outputs": [
    {
     "name": "stdout",
     "output_type": "stream",
     "text": [
      "Warning: cellpose did not import\n",
      "No module named 'cellpose'\n",
      "cannot use anatomical mode, but otherwise suite2p will run normally\n",
      "\n",
      "imported packerlabimaging successfully\n",
      "\tversion: 0.1-alpha\n",
      "\n"
     ]
    }
   ],
   "source": [
    "import imagingplus as ip"
   ]
  },
  {
   "cell_type": "code",
   "execution_count": 8,
   "id": "d5336da8",
   "metadata": {
    "collapsed": false,
    "pycharm": {
     "name": "#%%\n"
    }
   },
   "outputs": [
    {
     "name": "stdout",
     "output_type": "stream",
     "text": [
      "\n",
      "|- Loaded packerlabimaging.Experiment object (date: 2020-12-19, expID: RL109)kl ... \n",
      "\n",
      "\n",
      "|- Loaded 'TwoPhotonImagingTrial experimental data object'ts/2020-12-19_t-005.pkl ... \n",
      "\n"
     ]
    }
   ],
   "source": [
    "expobj: ip.Experiment = ip.import_obj(pkl_path='/home/pshah/Documents/code/imagingplus/tests/RL109_analysis.pkl')\n",
    "trialobj = expobj.load_trial(trialID=expobj.trialIDs[0])"
   ]
  },
  {
   "cell_type": "code",
   "execution_count": 9,
   "id": "9264f873",
   "metadata": {
    "collapsed": false,
    "pycharm": {
     "name": "#%%\n"
    }
   },
   "outputs": [
    {
     "data": {
      "text/plain": [
       "Annotated Data of n_obs (# ROIs) × n_vars (# Frames) = 640 × 14880"
      ]
     },
     "execution_count": 9,
     "metadata": {},
     "output_type": "execute_result"
    }
   ],
   "source": [
    "trialobj.data  # this is the anndata object for this trial"
   ]
  },
  {
   "cell_type": "markdown",
   "id": "12099295",
   "metadata": {
    "collapsed": false
   },
   "source": [
    "### storage of Flu data\n",
    "\n",
    "The raw data is stored in `.X`"
   ]
  },
  {
   "cell_type": "code",
   "execution_count": 10,
   "id": "ceda35c3",
   "metadata": {
    "collapsed": false,
    "pycharm": {
     "name": "#%%\n"
    }
   },
   "outputs": [
    {
     "name": "stdout",
     "output_type": "stream",
     "text": [
      "[[184.1814    317.08673   290.3114    ... 160.23482   167.61403\n",
      "  317.46335  ]\n",
      " [385.88657   137.67667   143.93521   ... 198.76053   229.82632\n",
      "   53.249207 ]\n",
      " [ 60.864273  261.0147    104.70546   ... 116.52678   254.67136\n",
      "  143.1633   ]\n",
      " ...\n",
      " [154.93796     5.2811584 299.87506   ...  -4.116638   76.94389\n",
      "  -35.974213 ]\n",
      " [ 39.04761    72.97851    47.687088  ... 113.60466    98.29797\n",
      "   72.06789  ]\n",
      " [ 68.78638   149.34642   123.59329   ... -37.69397    -4.7586517\n",
      "  157.56902  ]]\n",
      "shape:  (640, 14880)\n"
     ]
    }
   ],
   "source": [
    "print(trialobj.data.X)\n",
    "\n",
    "print('shape: ', trialobj.data.X.shape)"
   ]
  },
  {
   "cell_type": "markdown",
   "id": "23a050de",
   "metadata": {
    "collapsed": false
   },
   "source": [
    "Processed data is added to `trialobj.data` as a unique `layers` key."
   ]
  },
  {
   "cell_type": "code",
   "execution_count": 11,
   "id": "598e1e29",
   "metadata": {
    "collapsed": false,
    "pycharm": {
     "name": "#%%\n"
    }
   },
   "outputs": [
    {
     "data": {
      "text/plain": [
       "Layers with keys: dFF"
      ]
     },
     "execution_count": 11,
     "metadata": {},
     "output_type": "execute_result"
    }
   ],
   "source": [
    "trialobj.data.layers"
   ]
  },
  {
   "cell_type": "code",
   "execution_count": 8,
   "id": "fa0071d3",
   "metadata": {
    "collapsed": false,
    "pycharm": {
     "name": "#%%\n"
    }
   },
   "outputs": [
    {
     "name": "stdout",
     "output_type": "stream",
     "text": [
      "[[ 5.98681450e+01  1.01788902e+02 -1.10417347e+01 ...  7.23797684e+01\n",
      "   1.77545395e+02  2.03240280e+02]\n",
      " [ 5.94472656e+01  5.23103271e+02  3.88395325e+02 ...  1.44821854e+02\n",
      "   1.76246674e+02 -1.23176994e+02]\n",
      " [ 2.83476105e+02  7.60541382e+02  6.83203888e+01 ...  4.58546722e+02\n",
      "   4.94761932e+02 -1.47363739e+01]\n",
      " ...\n",
      " [ 1.48959662e+06  1.78293462e+06  3.05635900e+06 ...  3.33338075e+06\n",
      "   2.37125675e+06  8.92488500e+05]\n",
      " [ 2.31955856e+02  1.80915817e+02 -7.93059998e+01 ...  1.02241608e+02\n",
      "   4.62842560e+02  3.10591949e+02]\n",
      " [ 2.52069653e+03  2.64849194e+03  3.01587134e+03 ...  6.82752991e+02\n",
      "   2.33514380e+03  3.01541260e+03]]\n",
      "shape:  (640, 16368)\n"
     ]
    }
   ],
   "source": [
    "print(trialobj.data.layers['dFF'])\n",
    "\n",
    "print('shape: ', trialobj.data.layers['dFF'].shape)\n"
   ]
  },
  {
   "cell_type": "markdown",
   "id": "68da3ca3",
   "metadata": {
    "collapsed": false
   },
   "source": [
    "The rest of the AnnData data object is built according to the dimensions of the original Flu data input."
   ]
  },
  {
   "cell_type": "markdown",
   "id": "6978862f",
   "metadata": {
    "collapsed": false
   },
   "source": [
    "### observations (Suite2p ROIs metadata and associated processing info)\n",
    "\n",
    "For instance, the metadata for each suite2p ROI stored in Suite2p’s stat.npy output is added to `trialobject.data` under `obs` and `obsm` (1D and >1-D observations annotations, respectively)."
   ]
  },
  {
   "cell_type": "code",
   "execution_count": 9,
   "id": "1b79e2eb",
   "metadata": {
    "collapsed": false,
    "pycharm": {
     "name": "#%%\n"
    }
   },
   "outputs": [
    {
     "data": {
      "text/html": [
       "<div>\n",
       "<style scoped>\n",
       "    .dataframe tbody tr th:only-of-type {\n",
       "        vertical-align: middle;\n",
       "    }\n",
       "\n",
       "    .dataframe tbody tr th {\n",
       "        vertical-align: top;\n",
       "    }\n",
       "\n",
       "    .dataframe thead th {\n",
       "        text-align: right;\n",
       "    }\n",
       "</style>\n",
       "<table border=\"1\" class=\"dataframe\">\n",
       "  <thead>\n",
       "    <tr style=\"text-align: right;\">\n",
       "      <th></th>\n",
       "      <th>original_index</th>\n",
       "      <th>footprint</th>\n",
       "      <th>mrs</th>\n",
       "      <th>mrs0</th>\n",
       "      <th>compact</th>\n",
       "      <th>med</th>\n",
       "      <th>npix</th>\n",
       "      <th>radius</th>\n",
       "      <th>aspect_ratio</th>\n",
       "      <th>npix_norm</th>\n",
       "      <th>skew</th>\n",
       "      <th>std</th>\n",
       "    </tr>\n",
       "  </thead>\n",
       "  <tbody>\n",
       "    <tr>\n",
       "      <th>0</th>\n",
       "      <td>0</td>\n",
       "      <td>1.0</td>\n",
       "      <td>0.909815</td>\n",
       "      <td>2.604203</td>\n",
       "      <td>1.00197</td>\n",
       "      <td>[105.0, 459.0]</td>\n",
       "      <td>48</td>\n",
       "      <td>3.565604</td>\n",
       "      <td>1.051397</td>\n",
       "      <td>0.649175</td>\n",
       "      <td>3.016955</td>\n",
       "      <td>353.675049</td>\n",
       "    </tr>\n",
       "    <tr>\n",
       "      <th>1</th>\n",
       "      <td>1</td>\n",
       "      <td>1.0</td>\n",
       "      <td>0.912076</td>\n",
       "      <td>2.543516</td>\n",
       "      <td>1.028426</td>\n",
       "      <td>[48.5, 119.0]</td>\n",
       "      <td>46</td>\n",
       "      <td>3.538468</td>\n",
       "      <td>1.074428</td>\n",
       "      <td>0.622126</td>\n",
       "      <td>3.784652</td>\n",
       "      <td>422.922577</td>\n",
       "    </tr>\n",
       "    <tr>\n",
       "      <th>2</th>\n",
       "      <td>2</td>\n",
       "      <td>1.0</td>\n",
       "      <td>1.088559</td>\n",
       "      <td>3.09209</td>\n",
       "      <td>1.009662</td>\n",
       "      <td>[22.0, 204.0]</td>\n",
       "      <td>68</td>\n",
       "      <td>4.124215</td>\n",
       "      <td>1.027475</td>\n",
       "      <td>0.919665</td>\n",
       "      <td>3.603348</td>\n",
       "      <td>342.368134</td>\n",
       "    </tr>\n",
       "    <tr>\n",
       "      <th>3</th>\n",
       "      <td>3</td>\n",
       "      <td>1.0</td>\n",
       "      <td>1.561322</td>\n",
       "      <td>3.716985</td>\n",
       "      <td>1.204697</td>\n",
       "      <td>[53.0, 355.0]</td>\n",
       "      <td>98</td>\n",
       "      <td>8.133019</td>\n",
       "      <td>1.348522</td>\n",
       "      <td>1.325399</td>\n",
       "      <td>3.187822</td>\n",
       "      <td>357.666168</td>\n",
       "    </tr>\n",
       "    <tr>\n",
       "      <th>4</th>\n",
       "      <td>4</td>\n",
       "      <td>1.0</td>\n",
       "      <td>0.869808</td>\n",
       "      <td>2.404379</td>\n",
       "      <td>1.037521</td>\n",
       "      <td>[158.0, 383.0]</td>\n",
       "      <td>41</td>\n",
       "      <td>3.62042</td>\n",
       "      <td>1.139261</td>\n",
       "      <td>0.554504</td>\n",
       "      <td>2.59998</td>\n",
       "      <td>263.609039</td>\n",
       "    </tr>\n",
       "    <tr>\n",
       "      <th>...</th>\n",
       "      <td>...</td>\n",
       "      <td>...</td>\n",
       "      <td>...</td>\n",
       "      <td>...</td>\n",
       "      <td>...</td>\n",
       "      <td>...</td>\n",
       "      <td>...</td>\n",
       "      <td>...</td>\n",
       "      <td>...</td>\n",
       "      <td>...</td>\n",
       "      <td>...</td>\n",
       "      <td>...</td>\n",
       "    </tr>\n",
       "    <tr>\n",
       "      <th>635</th>\n",
       "      <td>1253</td>\n",
       "      <td>1.0</td>\n",
       "      <td>0.823022</td>\n",
       "      <td>2.249863</td>\n",
       "      <td>1.049136</td>\n",
       "      <td>[54.0, 298.0]</td>\n",
       "      <td>36</td>\n",
       "      <td>3.534257</td>\n",
       "      <td>1.135812</td>\n",
       "      <td>0.486881</td>\n",
       "      <td>2.103236</td>\n",
       "      <td>86.4552</td>\n",
       "    </tr>\n",
       "    <tr>\n",
       "      <th>636</th>\n",
       "      <td>1254</td>\n",
       "      <td>1.0</td>\n",
       "      <td>1.283198</td>\n",
       "      <td>3.05027</td>\n",
       "      <td>1.206512</td>\n",
       "      <td>[424.0, 310.0]</td>\n",
       "      <td>66</td>\n",
       "      <td>5.933419</td>\n",
       "      <td>1.173457</td>\n",
       "      <td>0.892616</td>\n",
       "      <td>1.223336</td>\n",
       "      <td>75.52874</td>\n",
       "    </tr>\n",
       "    <tr>\n",
       "      <th>637</th>\n",
       "      <td>1255</td>\n",
       "      <td>1.0</td>\n",
       "      <td>1.045195</td>\n",
       "      <td>2.818991</td>\n",
       "      <td>1.063358</td>\n",
       "      <td>[370.0, 453.0]</td>\n",
       "      <td>56</td>\n",
       "      <td>4.735501</td>\n",
       "      <td>1.186981</td>\n",
       "      <td>0.757371</td>\n",
       "      <td>0.866438</td>\n",
       "      <td>94.208916</td>\n",
       "    </tr>\n",
       "    <tr>\n",
       "      <th>638</th>\n",
       "      <td>1256</td>\n",
       "      <td>1.0</td>\n",
       "      <td>1.528247</td>\n",
       "      <td>3.944389</td>\n",
       "      <td>1.111195</td>\n",
       "      <td>[489.0, 235.0]</td>\n",
       "      <td>110</td>\n",
       "      <td>6.981186</td>\n",
       "      <td>1.184853</td>\n",
       "      <td>1.487693</td>\n",
       "      <td>1.714282</td>\n",
       "      <td>52.609936</td>\n",
       "    </tr>\n",
       "    <tr>\n",
       "      <th>639</th>\n",
       "      <td>1257</td>\n",
       "      <td>1.0</td>\n",
       "      <td>1.133697</td>\n",
       "      <td>2.84187</td>\n",
       "      <td>1.144113</td>\n",
       "      <td>[436.0, 321.0]</td>\n",
       "      <td>57</td>\n",
       "      <td>5.392178</td>\n",
       "      <td>1.235332</td>\n",
       "      <td>0.770895</td>\n",
       "      <td>1.103987</td>\n",
       "      <td>74.589386</td>\n",
       "    </tr>\n",
       "  </tbody>\n",
       "</table>\n",
       "<p>640 rows × 12 columns</p>\n",
       "</div>"
      ],
      "text/plain": [
       "    original_index footprint       mrs      mrs0   compact             med npix    radius aspect_ratio npix_norm      skew         std\n",
       "0                0       1.0  0.909815  2.604203   1.00197  [105.0, 459.0]   48  3.565604     1.051397  0.649175  3.016955  353.675049\n",
       "1                1       1.0  0.912076  2.543516  1.028426   [48.5, 119.0]   46  3.538468     1.074428  0.622126  3.784652  422.922577\n",
       "2                2       1.0  1.088559   3.09209  1.009662   [22.0, 204.0]   68  4.124215     1.027475  0.919665  3.603348  342.368134\n",
       "3                3       1.0  1.561322  3.716985  1.204697   [53.0, 355.0]   98  8.133019     1.348522  1.325399  3.187822  357.666168\n",
       "4                4       1.0  0.869808  2.404379  1.037521  [158.0, 383.0]   41   3.62042     1.139261  0.554504   2.59998  263.609039\n",
       "..             ...       ...       ...       ...       ...             ...  ...       ...          ...       ...       ...         ...\n",
       "635           1253       1.0  0.823022  2.249863  1.049136   [54.0, 298.0]   36  3.534257     1.135812  0.486881  2.103236     86.4552\n",
       "636           1254       1.0  1.283198   3.05027  1.206512  [424.0, 310.0]   66  5.933419     1.173457  0.892616  1.223336    75.52874\n",
       "637           1255       1.0  1.045195  2.818991  1.063358  [370.0, 453.0]   56  4.735501     1.186981  0.757371  0.866438   94.208916\n",
       "638           1256       1.0  1.528247  3.944389  1.111195  [489.0, 235.0]  110  6.981186     1.184853  1.487693  1.714282   52.609936\n",
       "639           1257       1.0  1.133697   2.84187  1.144113  [436.0, 321.0]   57  5.392178     1.235332  0.770895  1.103987   74.589386\n",
       "\n",
       "[640 rows x 12 columns]"
      ]
     },
     "execution_count": 9,
     "metadata": {},
     "output_type": "execute_result"
    }
   ],
   "source": [
    "trialobj.data.obs"
   ]
  },
  {
   "cell_type": "code",
   "execution_count": 10,
   "id": "11aa574e",
   "metadata": {
    "collapsed": false,
    "pycharm": {
     "name": "#%%\n"
    }
   },
   "outputs": [
    {
     "data": {
      "text/plain": [
       "AxisArrays with keys: ypix, xpix"
      ]
     },
     "execution_count": 10,
     "metadata": {},
     "output_type": "execute_result"
    }
   ],
   "source": [
    "trialobj.data.obsm"
   ]
  },
  {
   "cell_type": "markdown",
   "id": "34048201",
   "metadata": {
    "collapsed": false
   },
   "source": [
    "The `.obsm` includes the ypix and xpix outputs for each suite2p ROI which represent the pixel locations of the ROI mask."
   ]
  },
  {
   "cell_type": "code",
   "execution_count": 11,
   "id": "a30bb6e5",
   "metadata": {
    "collapsed": false,
    "pycharm": {
     "name": "#%%\n"
    }
   },
   "outputs": [
    {
     "name": "stdout",
     "output_type": "stream",
     "text": [
      "ypix: [array([102, 102, 102, 102, 102, 103, 103, 103, 103, 103, 103, 103, 104,\n",
      "        104, 104, 104, 104, 104, 104, 104, 105, 105, 105, 105, 105, 105,\n",
      "        105, 105, 106, 106, 106, 106, 106, 106, 106, 106, 107, 107, 107,\n",
      "        107, 107, 107, 107, 108, 108, 108, 108, 108])\n",
      " array([46, 46, 46, 46, 46, 46, 47, 47, 47, 47, 47, 47, 47, 47, 47, 48, 48,\n",
      "        48, 48, 48, 48, 48, 48, 49, 49, 49, 49, 49, 49, 49, 49, 50, 50, 50,\n",
      "        50, 50, 50, 50, 51, 51, 51, 51, 51, 52, 52, 52])\n",
      " array([18, 18, 18, 18, 19, 19, 19, 19, 19, 19, 19, 19, 20, 20, 20, 20, 20,\n",
      "        20, 20, 20, 20, 21, 21, 21, 21, 21, 21, 21, 21, 21, 21, 22, 22, 22,\n",
      "        22, 22, 22, 22, 22, 22, 22, 23, 23, 23, 23, 23, 23, 23, 23, 24, 24,\n",
      "        24, 24, 24, 24, 24, 24, 25, 25, 25, 25, 25, 25, 25, 26, 26, 26, 26])\n",
      " array([43, 44, 45, 46, 46, 47, 47, 47, 48, 48, 48, 48, 48, 49, 49, 49, 49,\n",
      "        49, 49, 50, 50, 50, 50, 50, 50, 50, 51, 51, 51, 51, 51, 51, 51, 52,\n",
      "        52, 52, 52, 52, 52, 52, 52, 52, 52, 52, 52, 53, 53, 53, 53, 53, 53,\n",
      "        53, 53, 53, 53, 53, 53, 54, 54, 54, 54, 54, 54, 54, 54, 54, 54, 55,\n",
      "        55, 55, 55, 55, 55, 55, 55, 55, 56, 56, 56, 56, 56, 56, 56, 56, 57,\n",
      "        57, 57, 57, 57, 57, 57, 58, 58, 58, 58, 58, 59, 59])\n",
      " array([156, 156, 156, 156, 156, 157, 157, 157, 157, 157, 157, 157, 157,\n",
      "        158, 158, 158, 158, 158, 158, 158, 158, 159, 159, 159, 159, 159,\n",
      "        159, 159, 159, 160, 160, 160, 160, 160, 160, 160, 161, 161, 161,\n",
      "        161, 161])                                                      ] \n",
      "\n",
      "xpix: \t [array([457, 458, 459, 460, 461, 456, 457, 458, 459, 460, 461, 462, 455,\n",
      "        456, 457, 458, 459, 460, 461, 462, 455, 456, 457, 458, 459, 460,\n",
      "        461, 462, 455, 456, 457, 458, 459, 460, 461, 462, 456, 457, 458,\n",
      "        459, 460, 461, 462, 457, 458, 459, 460, 461])\n",
      " array([116, 117, 118, 119, 120, 121, 114, 115, 116, 117, 118, 119, 120,\n",
      "        121, 122, 115, 116, 117, 118, 119, 120, 121, 122, 115, 116, 117,\n",
      "        118, 119, 120, 121, 122, 116, 117, 118, 119, 120, 121, 122, 117,\n",
      "        118, 119, 120, 121, 118, 119, 120])\n",
      " array([202, 203, 204, 205, 200, 201, 202, 203, 204, 205, 206, 207, 200,\n",
      "        201, 202, 203, 204, 205, 206, 207, 208, 200, 201, 202, 203, 204,\n",
      "        205, 206, 207, 208, 209, 199, 200, 201, 202, 203, 204, 205, 206,\n",
      "        207, 208, 200, 201, 202, 203, 204, 205, 206, 207, 200, 201, 202,\n",
      "        203, 204, 205, 206, 207, 201, 202, 203, 204, 205, 206, 207, 202,\n",
      "        203, 204, 205])\n",
      " array([352, 352, 352, 352, 353, 352, 353, 354, 351, 352, 353, 354, 355,\n",
      "        350, 351, 352, 353, 354, 355, 350, 351, 352, 353, 354, 355, 356,\n",
      "        349, 350, 351, 352, 353, 354, 355, 349, 350, 351, 352, 353, 354,\n",
      "        355, 357, 358, 359, 360, 361, 350, 351, 352, 353, 354, 355, 356,\n",
      "        357, 358, 359, 360, 361, 352, 353, 354, 355, 356, 357, 358, 359,\n",
      "        360, 361, 354, 355, 356, 357, 358, 359, 360, 361, 362, 354, 355,\n",
      "        356, 357, 358, 359, 360, 361, 355, 356, 357, 358, 359, 360, 361,\n",
      "        357, 358, 359, 360, 361, 358, 359])\n",
      " array([382, 383, 384, 385, 386, 380, 381, 382, 383, 384, 385, 386, 387,\n",
      "        380, 381, 382, 383, 384, 385, 386, 387, 380, 381, 382, 383, 384,\n",
      "        385, 386, 387, 380, 381, 382, 383, 384, 385, 386, 381, 382, 383,\n",
      "        384, 385])                                                      ]\n"
     ]
    }
   ],
   "source": [
    "print('ypix:', trialobj.data.obsm['ypix'][:5], '\\n\\nxpix: \\t', trialobj.data.obsm['xpix'][:5])"
   ]
  },
  {
   "cell_type": "markdown",
   "id": "09f8da01",
   "metadata": {
    "collapsed": false
   },
   "source": [
    "### variables (temporal synchronization of paq channels and imaging)\n",
    "\n",
    "And the temporal synchronization data of the experiment collected in .paq output is added to the variables annotations under `var`. These variables are timed to the imaging frame clock timings. The total # of variables is the number of imaging frames in the original Flu data input."
   ]
  },
  {
   "cell_type": "code",
   "execution_count": 12,
   "id": "843dbee2",
   "metadata": {
    "collapsed": false,
    "pycharm": {
     "name": "#%%\n"
    }
   },
   "outputs": [
    {
     "data": {
      "text/html": [
       "<div>\n",
       "<style scoped>\n",
       "    .dataframe tbody tr th:only-of-type {\n",
       "        vertical-align: middle;\n",
       "    }\n",
       "\n",
       "    .dataframe tbody tr th {\n",
       "        vertical-align: top;\n",
       "    }\n",
       "\n",
       "    .dataframe thead th {\n",
       "        text-align: right;\n",
       "    }\n",
       "</style>\n",
       "<table border=\"1\" class=\"dataframe\">\n",
       "  <thead>\n",
       "    <tr style=\"text-align: right;\">\n",
       "      <th></th>\n",
       "      <th>frame_clock</th>\n",
       "      <th>x_galvo_uncaging</th>\n",
       "      <th>slm2packio</th>\n",
       "      <th>markpoints2packio</th>\n",
       "      <th>packio2slm</th>\n",
       "      <th>packio2markpoints</th>\n",
       "      <th>pycontrol_rsync</th>\n",
       "      <th>voltage</th>\n",
       "      <th>photostim</th>\n",
       "    </tr>\n",
       "  </thead>\n",
       "  <tbody>\n",
       "    <tr>\n",
       "      <th>0</th>\n",
       "      <td>4.972792</td>\n",
       "      <td>-1.16518</td>\n",
       "      <td>3.329534</td>\n",
       "      <td>0.007827</td>\n",
       "      <td>0.000264</td>\n",
       "      <td>0.000592</td>\n",
       "      <td>0.017035</td>\n",
       "      <td>-0.116807</td>\n",
       "      <td>False</td>\n",
       "    </tr>\n",
       "    <tr>\n",
       "      <th>1</th>\n",
       "      <td>4.974765</td>\n",
       "      <td>-1.164851</td>\n",
       "      <td>3.325917</td>\n",
       "      <td>0.007827</td>\n",
       "      <td>-0.000394</td>\n",
       "      <td>-0.000394</td>\n",
       "      <td>0.019666</td>\n",
       "      <td>-0.19606</td>\n",
       "      <td>False</td>\n",
       "    </tr>\n",
       "    <tr>\n",
       "      <th>2</th>\n",
       "      <td>4.971806</td>\n",
       "      <td>-1.16518</td>\n",
       "      <td>3.337755</td>\n",
       "      <td>0.008156</td>\n",
       "      <td>-0.000065</td>\n",
       "      <td>0.000592</td>\n",
       "      <td>0.02131</td>\n",
       "      <td>-0.210858</td>\n",
       "      <td>False</td>\n",
       "    </tr>\n",
       "    <tr>\n",
       "      <th>3</th>\n",
       "      <td>4.970819</td>\n",
       "      <td>-1.164851</td>\n",
       "      <td>3.331507</td>\n",
       "      <td>0.007827</td>\n",
       "      <td>0.000592</td>\n",
       "      <td>0.000264</td>\n",
       "      <td>0.02131</td>\n",
       "      <td>-0.204939</td>\n",
       "      <td>False</td>\n",
       "    </tr>\n",
       "    <tr>\n",
       "      <th>4</th>\n",
       "      <td>4.975094</td>\n",
       "      <td>-1.166166</td>\n",
       "      <td>3.340715</td>\n",
       "      <td>0.006841</td>\n",
       "      <td>0.000264</td>\n",
       "      <td>0.00125</td>\n",
       "      <td>0.021639</td>\n",
       "      <td>-0.234206</td>\n",
       "      <td>False</td>\n",
       "    </tr>\n",
       "    <tr>\n",
       "      <th>...</th>\n",
       "      <td>...</td>\n",
       "      <td>...</td>\n",
       "      <td>...</td>\n",
       "      <td>...</td>\n",
       "      <td>...</td>\n",
       "      <td>...</td>\n",
       "      <td>...</td>\n",
       "      <td>...</td>\n",
       "      <td>...</td>\n",
       "    </tr>\n",
       "    <tr>\n",
       "      <th>16363</th>\n",
       "      <td>4.974436</td>\n",
       "      <td>-1.165837</td>\n",
       "      <td>3.337426</td>\n",
       "      <td>0.006841</td>\n",
       "      <td>-0.000065</td>\n",
       "      <td>0.002565</td>\n",
       "      <td>0.021639</td>\n",
       "      <td>2.423554</td>\n",
       "      <td>False</td>\n",
       "    </tr>\n",
       "    <tr>\n",
       "      <th>16364</th>\n",
       "      <td>4.975751</td>\n",
       "      <td>-1.164851</td>\n",
       "      <td>3.334138</td>\n",
       "      <td>0.012102</td>\n",
       "      <td>-0.000065</td>\n",
       "      <td>-0.000065</td>\n",
       "      <td>0.017035</td>\n",
       "      <td>2.473211</td>\n",
       "      <td>False</td>\n",
       "    </tr>\n",
       "    <tr>\n",
       "      <th>16365</th>\n",
       "      <td>4.960953</td>\n",
       "      <td>-1.164851</td>\n",
       "      <td>3.337097</td>\n",
       "      <td>0.008485</td>\n",
       "      <td>0.000264</td>\n",
       "      <td>0.000921</td>\n",
       "      <td>0.019994</td>\n",
       "      <td>2.473211</td>\n",
       "      <td>False</td>\n",
       "    </tr>\n",
       "    <tr>\n",
       "      <th>16366</th>\n",
       "      <td>4.971477</td>\n",
       "      <td>-1.167153</td>\n",
       "      <td>3.31934</td>\n",
       "      <td>0.006183</td>\n",
       "      <td>-0.000065</td>\n",
       "      <td>-0.000065</td>\n",
       "      <td>0.005525</td>\n",
       "      <td>2.466963</td>\n",
       "      <td>False</td>\n",
       "    </tr>\n",
       "    <tr>\n",
       "      <th>16367</th>\n",
       "      <td>4.975751</td>\n",
       "      <td>-1.164851</td>\n",
       "      <td>3.329863</td>\n",
       "      <td>0.009471</td>\n",
       "      <td>0.000264</td>\n",
       "      <td>0.000592</td>\n",
       "      <td>0.017693</td>\n",
       "      <td>2.453151</td>\n",
       "      <td>False</td>\n",
       "    </tr>\n",
       "  </tbody>\n",
       "</table>\n",
       "<p>16368 rows × 9 columns</p>\n",
       "</div>"
      ],
      "text/plain": [
       "      frame_clock x_galvo_uncaging slm2packio markpoints2packio packio2slm packio2markpoints pycontrol_rsync   voltage  photostim\n",
       "0        4.972792         -1.16518   3.329534          0.007827   0.000264          0.000592        0.017035 -0.116807      False\n",
       "1        4.974765        -1.164851   3.325917          0.007827  -0.000394         -0.000394        0.019666  -0.19606      False\n",
       "2        4.971806         -1.16518   3.337755          0.008156  -0.000065          0.000592         0.02131 -0.210858      False\n",
       "3        4.970819        -1.164851   3.331507          0.007827   0.000592          0.000264         0.02131 -0.204939      False\n",
       "4        4.975094        -1.166166   3.340715          0.006841   0.000264           0.00125        0.021639 -0.234206      False\n",
       "...           ...              ...        ...               ...        ...               ...             ...       ...        ...\n",
       "16363    4.974436        -1.165837   3.337426          0.006841  -0.000065          0.002565        0.021639  2.423554      False\n",
       "16364    4.975751        -1.164851   3.334138          0.012102  -0.000065         -0.000065        0.017035  2.473211      False\n",
       "16365    4.960953        -1.164851   3.337097          0.008485   0.000264          0.000921        0.019994  2.473211      False\n",
       "16366    4.971477        -1.167153    3.31934          0.006183  -0.000065         -0.000065        0.005525  2.466963      False\n",
       "16367    4.975751        -1.164851   3.329863          0.009471   0.000264          0.000592        0.017693  2.453151      False\n",
       "\n",
       "[16368 rows x 9 columns]"
      ]
     },
     "execution_count": 12,
     "metadata": {},
     "output_type": "execute_result"
    }
   ],
   "source": [
    "trialobj.data.var"
   ]
  },
  {
   "cell_type": "markdown",
   "id": "c90dabbf",
   "metadata": {
    "collapsed": false
   },
   "source": [
    "### Creating or Modifying AnnData arrays of trialobj\n",
    "\n",
    "There are a number of helper functions to create anndata arrays or modify existing anndata arrays."
   ]
  },
  {
   "cell_type": "code",
   "execution_count": 4,
   "id": "029a122e",
   "metadata": {
    "collapsed": false,
    "pycharm": {
     "name": "#%%\n"
    }
   },
   "outputs": [
    {
     "data": {
      "text/html": [
       "<div>\n",
       "<style scoped>\n",
       "    .dataframe tbody tr th:only-of-type {\n",
       "        vertical-align: middle;\n",
       "    }\n",
       "\n",
       "    .dataframe tbody tr th {\n",
       "        vertical-align: top;\n",
       "    }\n",
       "\n",
       "    .dataframe thead th {\n",
       "        text-align: right;\n",
       "    }\n",
       "</style>\n",
       "<table border=\"1\" class=\"dataframe\">\n",
       "  <thead>\n",
       "    <tr style=\"text-align: right;\">\n",
       "      <th></th>\n",
       "      <th>0</th>\n",
       "      <th>1</th>\n",
       "      <th>2</th>\n",
       "      <th>3</th>\n",
       "      <th>4</th>\n",
       "      <th>...</th>\n",
       "      <th>9995</th>\n",
       "      <th>9996</th>\n",
       "      <th>9997</th>\n",
       "      <th>9998</th>\n",
       "      <th>9999</th>\n",
       "    </tr>\n",
       "  </thead>\n",
       "  <tbody>\n",
       "    <tr>\n",
       "      <th>0</th>\n",
       "      <td>0.007100</td>\n",
       "      <td>0.331746</td>\n",
       "      <td>0.954718</td>\n",
       "      <td>0.311193</td>\n",
       "      <td>0.342229</td>\n",
       "      <td>...</td>\n",
       "      <td>0.036089</td>\n",
       "      <td>0.515803</td>\n",
       "      <td>0.881094</td>\n",
       "      <td>0.484803</td>\n",
       "      <td>0.332016</td>\n",
       "    </tr>\n",
       "    <tr>\n",
       "      <th>1</th>\n",
       "      <td>0.078150</td>\n",
       "      <td>0.785294</td>\n",
       "      <td>0.845034</td>\n",
       "      <td>0.564981</td>\n",
       "      <td>0.053330</td>\n",
       "      <td>...</td>\n",
       "      <td>0.354211</td>\n",
       "      <td>0.703916</td>\n",
       "      <td>0.896111</td>\n",
       "      <td>0.836012</td>\n",
       "      <td>0.489882</td>\n",
       "    </tr>\n",
       "    <tr>\n",
       "      <th>2</th>\n",
       "      <td>0.817575</td>\n",
       "      <td>0.742934</td>\n",
       "      <td>0.334427</td>\n",
       "      <td>0.999174</td>\n",
       "      <td>0.215008</td>\n",
       "      <td>...</td>\n",
       "      <td>0.031412</td>\n",
       "      <td>0.694898</td>\n",
       "      <td>0.961636</td>\n",
       "      <td>0.234338</td>\n",
       "      <td>0.671856</td>\n",
       "    </tr>\n",
       "    <tr>\n",
       "      <th>3</th>\n",
       "      <td>0.074314</td>\n",
       "      <td>0.960333</td>\n",
       "      <td>0.302282</td>\n",
       "      <td>0.312936</td>\n",
       "      <td>0.373407</td>\n",
       "      <td>...</td>\n",
       "      <td>0.854256</td>\n",
       "      <td>0.382607</td>\n",
       "      <td>0.879831</td>\n",
       "      <td>0.280990</td>\n",
       "      <td>0.212398</td>\n",
       "    </tr>\n",
       "    <tr>\n",
       "      <th>4</th>\n",
       "      <td>0.591134</td>\n",
       "      <td>0.475524</td>\n",
       "      <td>0.263621</td>\n",
       "      <td>0.964541</td>\n",
       "      <td>0.415296</td>\n",
       "      <td>...</td>\n",
       "      <td>0.940733</td>\n",
       "      <td>0.712458</td>\n",
       "      <td>0.364609</td>\n",
       "      <td>0.118514</td>\n",
       "      <td>0.709443</td>\n",
       "    </tr>\n",
       "    <tr>\n",
       "      <th>5</th>\n",
       "      <td>0.152702</td>\n",
       "      <td>0.149395</td>\n",
       "      <td>0.169253</td>\n",
       "      <td>0.610581</td>\n",
       "      <td>0.878745</td>\n",
       "      <td>...</td>\n",
       "      <td>0.575089</td>\n",
       "      <td>0.028993</td>\n",
       "      <td>0.785949</td>\n",
       "      <td>0.768086</td>\n",
       "      <td>0.768378</td>\n",
       "    </tr>\n",
       "    <tr>\n",
       "      <th>6</th>\n",
       "      <td>0.968979</td>\n",
       "      <td>0.720071</td>\n",
       "      <td>0.573805</td>\n",
       "      <td>0.066508</td>\n",
       "      <td>0.668841</td>\n",
       "      <td>...</td>\n",
       "      <td>0.828199</td>\n",
       "      <td>0.660924</td>\n",
       "      <td>0.422817</td>\n",
       "      <td>0.892732</td>\n",
       "      <td>0.080562</td>\n",
       "    </tr>\n",
       "    <tr>\n",
       "      <th>7</th>\n",
       "      <td>0.699672</td>\n",
       "      <td>0.009906</td>\n",
       "      <td>0.624961</td>\n",
       "      <td>0.663044</td>\n",
       "      <td>0.314822</td>\n",
       "      <td>...</td>\n",
       "      <td>0.142305</td>\n",
       "      <td>0.339057</td>\n",
       "      <td>0.758372</td>\n",
       "      <td>0.381791</td>\n",
       "      <td>0.423501</td>\n",
       "    </tr>\n",
       "    <tr>\n",
       "      <th>8</th>\n",
       "      <td>0.637722</td>\n",
       "      <td>0.049601</td>\n",
       "      <td>0.434557</td>\n",
       "      <td>0.799958</td>\n",
       "      <td>0.565807</td>\n",
       "      <td>...</td>\n",
       "      <td>0.490102</td>\n",
       "      <td>0.458182</td>\n",
       "      <td>0.376269</td>\n",
       "      <td>0.637587</td>\n",
       "      <td>0.850117</td>\n",
       "    </tr>\n",
       "    <tr>\n",
       "      <th>9</th>\n",
       "      <td>0.929012</td>\n",
       "      <td>0.251330</td>\n",
       "      <td>0.160211</td>\n",
       "      <td>0.227208</td>\n",
       "      <td>0.236852</td>\n",
       "      <td>...</td>\n",
       "      <td>0.412546</td>\n",
       "      <td>0.101983</td>\n",
       "      <td>0.135045</td>\n",
       "      <td>0.167816</td>\n",
       "      <td>0.321940</td>\n",
       "    </tr>\n",
       "  </tbody>\n",
       "</table>\n",
       "<p>10 rows × 10000 columns</p>\n",
       "</div>"
      ],
      "text/plain": [
       "       0         1         2         3         4     ...      9995      9996      9997      9998      9999\n",
       "0  0.007100  0.331746  0.954718  0.311193  0.342229  ...  0.036089  0.515803  0.881094  0.484803  0.332016\n",
       "1  0.078150  0.785294  0.845034  0.564981  0.053330  ...  0.354211  0.703916  0.896111  0.836012  0.489882\n",
       "2  0.817575  0.742934  0.334427  0.999174  0.215008  ...  0.031412  0.694898  0.961636  0.234338  0.671856\n",
       "3  0.074314  0.960333  0.302282  0.312936  0.373407  ...  0.854256  0.382607  0.879831  0.280990  0.212398\n",
       "4  0.591134  0.475524  0.263621  0.964541  0.415296  ...  0.940733  0.712458  0.364609  0.118514  0.709443\n",
       "5  0.152702  0.149395  0.169253  0.610581  0.878745  ...  0.575089  0.028993  0.785949  0.768086  0.768378\n",
       "6  0.968979  0.720071  0.573805  0.066508  0.668841  ...  0.828199  0.660924  0.422817  0.892732  0.080562\n",
       "7  0.699672  0.009906  0.624961  0.663044  0.314822  ...  0.142305  0.339057  0.758372  0.381791  0.423501\n",
       "8  0.637722  0.049601  0.434557  0.799958  0.565807  ...  0.490102  0.458182  0.376269  0.637587  0.850117\n",
       "9  0.929012  0.251330  0.160211  0.227208  0.236852  ...  0.412546  0.101983  0.135045  0.167816  0.321940\n",
       "\n",
       "[10 rows x 10000 columns]"
      ]
     },
     "execution_count": 4,
     "metadata": {},
     "output_type": "execute_result"
    }
   ],
   "source": [
    "# creating new anndata object. This is identical to the base AnnData library.\n",
    "# the example below is from the Getting Started Tutorial for AnnData:\n",
    "\n",
    "# any given anndata object is created from constituent data arrays.\n",
    "\n",
    "\n",
    "# 1) Primary data matrix\n",
    "import numpy as np\n",
    "import pandas as pd\n",
    "\n",
    "n_rois, n_frames = 10, 10000\n",
    "X = np.random.random((n_rois, n_frames))  # create random data matrix\n",
    "\n",
    "df = pd.DataFrame(X, columns=range(n_frames), index=np.arange(n_rois, dtype=int).astype(str))\n",
    "df  # show the dataframe"
   ]
  },
  {
   "cell_type": "code",
   "execution_count": 5,
   "id": "fbd51db5",
   "metadata": {
    "collapsed": false,
    "pycharm": {
     "name": "#%%\n"
    }
   },
   "outputs": [
    {
     "data": {
      "text/html": [
       "<div>\n",
       "<style scoped>\n",
       "    .dataframe tbody tr th:only-of-type {\n",
       "        vertical-align: middle;\n",
       "    }\n",
       "\n",
       "    .dataframe tbody tr th {\n",
       "        vertical-align: top;\n",
       "    }\n",
       "\n",
       "    .dataframe thead th {\n",
       "        text-align: right;\n",
       "    }\n",
       "</style>\n",
       "<table border=\"1\" class=\"dataframe\">\n",
       "  <thead>\n",
       "    <tr style=\"text-align: right;\">\n",
       "      <th></th>\n",
       "      <th>cell_type</th>\n",
       "    </tr>\n",
       "  </thead>\n",
       "  <tbody>\n",
       "    <tr>\n",
       "      <th>0</th>\n",
       "      <td>int</td>\n",
       "    </tr>\n",
       "    <tr>\n",
       "      <th>1</th>\n",
       "      <td>exc</td>\n",
       "    </tr>\n",
       "    <tr>\n",
       "      <th>2</th>\n",
       "      <td>exc</td>\n",
       "    </tr>\n",
       "    <tr>\n",
       "      <th>3</th>\n",
       "      <td>exc</td>\n",
       "    </tr>\n",
       "    <tr>\n",
       "      <th>4</th>\n",
       "      <td>int</td>\n",
       "    </tr>\n",
       "    <tr>\n",
       "      <th>5</th>\n",
       "      <td>int</td>\n",
       "    </tr>\n",
       "    <tr>\n",
       "      <th>6</th>\n",
       "      <td>int</td>\n",
       "    </tr>\n",
       "    <tr>\n",
       "      <th>7</th>\n",
       "      <td>exc</td>\n",
       "    </tr>\n",
       "    <tr>\n",
       "      <th>8</th>\n",
       "      <td>exc</td>\n",
       "    </tr>\n",
       "    <tr>\n",
       "      <th>9</th>\n",
       "      <td>exc</td>\n",
       "    </tr>\n",
       "  </tbody>\n",
       "</table>\n",
       "</div>"
      ],
      "text/plain": [
       "  cell_type\n",
       "0       int\n",
       "1       exc\n",
       "2       exc\n",
       "3       exc\n",
       "4       int\n",
       "5       int\n",
       "6       int\n",
       "7       exc\n",
       "8       exc\n",
       "9       exc"
      ]
     },
     "execution_count": 5,
     "metadata": {},
     "output_type": "execute_result"
    }
   ],
   "source": [
    "#2) Observations matrix\n",
    "\n",
    "obs_meta = pd.DataFrame({\n",
    "    'cell_type': np.random.choice(['exc', 'int'], n_rois),\n",
    "},\n",
    "    index=np.arange(n_rois, dtype=int).astype(str),    # these are the same IDs of observations as above!\n",
    ")\n",
    "obs_meta\n"
   ]
  },
  {
   "cell_type": "code",
   "execution_count": 6,
   "id": "dafd14b8",
   "metadata": {
    "collapsed": false,
    "pycharm": {
     "name": "#%%\n"
    }
   },
   "outputs": [
    {
     "data": {
      "text/html": [
       "<div>\n",
       "<style scoped>\n",
       "    .dataframe tbody tr th:only-of-type {\n",
       "        vertical-align: middle;\n",
       "    }\n",
       "\n",
       "    .dataframe tbody tr th {\n",
       "        vertical-align: top;\n",
       "    }\n",
       "\n",
       "    .dataframe thead th {\n",
       "        text-align: right;\n",
       "    }\n",
       "</style>\n",
       "<table border=\"1\" class=\"dataframe\">\n",
       "  <thead>\n",
       "    <tr style=\"text-align: right;\">\n",
       "      <th></th>\n",
       "      <th>exp_group</th>\n",
       "    </tr>\n",
       "  </thead>\n",
       "  <tbody>\n",
       "    <tr>\n",
       "      <th>0</th>\n",
       "      <td>A</td>\n",
       "    </tr>\n",
       "    <tr>\n",
       "      <th>1</th>\n",
       "      <td>C</td>\n",
       "    </tr>\n",
       "    <tr>\n",
       "      <th>2</th>\n",
       "      <td>A</td>\n",
       "    </tr>\n",
       "    <tr>\n",
       "      <th>3</th>\n",
       "      <td>C</td>\n",
       "    </tr>\n",
       "    <tr>\n",
       "      <th>4</th>\n",
       "      <td>B</td>\n",
       "    </tr>\n",
       "    <tr>\n",
       "      <th>...</th>\n",
       "      <td>...</td>\n",
       "    </tr>\n",
       "    <tr>\n",
       "      <th>9995</th>\n",
       "      <td>B</td>\n",
       "    </tr>\n",
       "    <tr>\n",
       "      <th>9996</th>\n",
       "      <td>C</td>\n",
       "    </tr>\n",
       "    <tr>\n",
       "      <th>9997</th>\n",
       "      <td>C</td>\n",
       "    </tr>\n",
       "    <tr>\n",
       "      <th>9998</th>\n",
       "      <td>C</td>\n",
       "    </tr>\n",
       "    <tr>\n",
       "      <th>9999</th>\n",
       "      <td>A</td>\n",
       "    </tr>\n",
       "  </tbody>\n",
       "</table>\n",
       "<p>10000 rows × 1 columns</p>\n",
       "</div>"
      ],
      "text/plain": [
       "     exp_group\n",
       "0            A\n",
       "1            C\n",
       "2            A\n",
       "3            C\n",
       "4            B\n",
       "...        ...\n",
       "9995         B\n",
       "9996         C\n",
       "9997         C\n",
       "9998         C\n",
       "9999         A\n",
       "\n",
       "[10000 rows x 1 columns]"
      ]
     },
     "execution_count": 6,
     "metadata": {},
     "output_type": "execute_result"
    }
   ],
   "source": [
    "#3) Variables matrix\n",
    "\n",
    "\n",
    "var_meta = pd.DataFrame({\n",
    "    'exp_group': np.random.choice(['A','B', 'C'], n_frames),\n",
    "},\n",
    "    index=np.arange(n_frames, dtype=int).astype(str),    # these are the same IDs of observations as above!\n",
    ")\n",
    "var_meta\n"
   ]
  },
  {
   "cell_type": "code",
   "execution_count": 7,
   "id": "72493fce",
   "metadata": {
    "collapsed": false,
    "pycharm": {
     "name": "#%%\n"
    }
   },
   "outputs": [
    {
     "name": "stdout",
     "output_type": "stream",
     "text": [
      "Annotated Data of n_obs (# ROIs) × n_vars (# Frames) = 10 × 10000 \n",
      "available attributes: \n",
      "\t.X (primary datamatrix)\n",
      "\t.obs (ROIs metadata): \n",
      "\t\t|- 'cell_type'\n",
      "\t.var (frames metadata): \n",
      "\t\t|- 'exp_group'\n"
     ]
    }
   ],
   "source": [
    "#4) Creating a new anndata attribute for the trialobj\n",
    "\n",
    "import imagingplus.processing.anndata as ad  # from the processing module, import anndata submodule\n",
    "\n",
    "trialobj.new_anndata = ad.AnnotatedData(X=df,obs=obs_meta, var=var_meta)\n",
    "\n",
    "print(trialobj.new_anndata)"
   ]
  },
  {
   "cell_type": "code",
   "execution_count": 8,
   "id": "db6d43e0",
   "metadata": {
    "collapsed": false,
    "pycharm": {
     "name": "#%%\n"
    }
   },
   "outputs": [
    {
     "name": "stdout",
     "output_type": "stream",
     "text": [
      "Annotated Data of n_obs (# ROIs) × n_vars (# Frames) = 10 × 10000 \n",
      "available attributes: \n",
      "\t.X (primary datamatrix)\n",
      "\t.obs (ROIs metadata): \n",
      "\t\t|- 'cell_type', 'cell_loc_x', 'cell_loc_y'\n",
      "\t.var (frames metadata): \n",
      "\t\t|- 'exp_group'\n"
     ]
    }
   ],
   "source": [
    "# adding an 'obs' to existing anndata object\n",
    "\n",
    "new_obs = pd.DataFrame({\n",
    "    'cell_loc_x': np.random.random_integers(0, 512, n_rois),\n",
    "    'cell_loc_y': np.random.random_integers(0, 512, n_rois),\n",
    "},\n",
    "    index=np.arange(n_rois, dtype=int).astype(str),    # these are the same IDs of observations as above!\n",
    ")\n",
    "\n",
    "cell_loc_x = np.random.random_integers(0, 512, n_rois)\n",
    "cell_loc_y = np.random.random_integers(0, 512, n_rois)\n",
    "\n",
    "\n",
    "trialobj.new_anndata.add_obs(obs_name='cell_loc_x', values=cell_loc_x)\n",
    "trialobj.new_anndata.add_obs(obs_name='cell_loc_y', values=cell_loc_y)\n",
    "\n",
    "print(trialobj.new_anndata)\n",
    "\n"
   ]
  },
  {
   "cell_type": "code",
   "execution_count": 9,
   "id": "44199fb5",
   "metadata": {
    "collapsed": false,
    "pycharm": {
     "name": "#%%\n"
    }
   },
   "outputs": [
    {
     "name": "stdout",
     "output_type": "stream",
     "text": [
      "Annotated Data of n_obs (# ROIs) × n_vars (# Frames) = 10 × 10000 \n",
      "available attributes: \n",
      "\t.X (primary datamatrix)\n",
      "\t.obs (ROIs metadata): \n",
      "\t\t|- 'cell_loc_x', 'cell_loc_y'\n",
      "\t.var (frames metadata): \n",
      "\t\t|- 'exp_group'\n"
     ]
    }
   ],
   "source": [
    "# deleting an 'obs' to existing anndata object\n",
    "# uses the pop method\n",
    "\n",
    "trialobj.new_anndata.del_obs('cell_type')\n",
    "print(trialobj.new_anndata)"
   ]
  },
  {
   "cell_type": "markdown",
   "id": "bfa7f315",
   "metadata": {
    "collapsed": false
   },
   "source": [
    "*Note: adding and deleting an 'var' to existing anndata object can be done in the exact same manner as demonstrated above for 'obs' using .add_var() and .del_var() methods on an anndata object.*"
   ]
  },
  {
   "cell_type": "markdown",
   "id": "ab92502b",
   "metadata": {
    "collapsed": false,
    "pycharm": {
     "name": "#%% md\n"
    }
   },
   "source": [
    "## Plotting quickly from anndata"
   ]
  },
  {
   "cell_type": "markdown",
   "id": "d5cf125e",
   "metadata": {
    "collapsed": false,
    "pycharm": {
     "name": "#%% md\n"
    }
   },
   "source": [
    "To quickly plot from data contained within an `anndata` object, we convert the `anndata` object to a long-form `pandas` dataframe.\n",
    "\n",
    "Using this format of the data, we can quickly access the excellent `seaborn` library for plotting."
   ]
  },
  {
   "cell_type": "code",
   "execution_count": 12,
   "id": "ce1b45db",
   "metadata": {
    "collapsed": false,
    "pycharm": {
     "name": "#%%\n"
    }
   },
   "outputs": [
    {
     "name": "stdout",
     "output_type": "stream",
     "text": [
      "converting anndata data matrix to long-form pandas dataframe ... [in progress]\n"
     ]
    },
    {
     "ename": "ValueError",
     "evalue": "Length of values (2) does not match length of index (1)",
     "output_type": "error",
     "traceback": [
      "\u001b[0;31m---------------------------------------------------------------------------\u001b[0m",
      "\u001b[0;31mValueError\u001b[0m                                Traceback (most recent call last)",
      "\u001b[0;32m/tmp/ipykernel_58821/3143594238.py\u001b[0m in \u001b[0;36m<module>\u001b[0;34m\u001b[0m\n\u001b[0;32m----> 1\u001b[0;31m \u001b[0mtrialobj\u001b[0m\u001b[0;34m.\u001b[0m\u001b[0mdata\u001b[0m\u001b[0;34m.\u001b[0m\u001b[0mdf\u001b[0m \u001b[0;34m=\u001b[0m \u001b[0mtrialobj\u001b[0m\u001b[0;34m.\u001b[0m\u001b[0mdata\u001b[0m\u001b[0;34m.\u001b[0m\u001b[0mconvert_to_df\u001b[0m\u001b[0;34m(\u001b[0m\u001b[0;34m)\u001b[0m\u001b[0;34m\u001b[0m\u001b[0;34m\u001b[0m\u001b[0m\n\u001b[0m",
      "\u001b[0;32m~/Documents/code/packerlabimaging/src/packerlabimaging/processing/anndata.py\u001b[0m in \u001b[0;36mconvert_to_df\u001b[0;34m(self)\u001b[0m\n\u001b[1;32m    135\u001b[0m \u001b[0;34m\u001b[0m\u001b[0m\n\u001b[1;32m    136\u001b[0m                 \u001b[0mdict_\u001b[0m\u001b[0;34m[\u001b[0m\u001b[0mcols\u001b[0m\u001b[0;34m[\u001b[0m\u001b[0;34m-\u001b[0m\u001b[0;36m1\u001b[0m\u001b[0;34m]\u001b[0m\u001b[0;34m]\u001b[0m \u001b[0;34m=\u001b[0m \u001b[0mself\u001b[0m\u001b[0;34m.\u001b[0m\u001b[0mX\u001b[0m\u001b[0;34m[\u001b[0m\u001b[0midi\u001b[0m\u001b[0;34m,\u001b[0m \u001b[0midj\u001b[0m\u001b[0;34m]\u001b[0m\u001b[0;34m\u001b[0m\u001b[0;34m\u001b[0m\u001b[0m\n\u001b[0;32m--> 137\u001b[0;31m                 \u001b[0mdf\u001b[0m \u001b[0;34m=\u001b[0m \u001b[0mpd\u001b[0m\u001b[0;34m.\u001b[0m\u001b[0mconcat\u001b[0m\u001b[0;34m(\u001b[0m\u001b[0;34m[\u001b[0m\u001b[0mdf\u001b[0m\u001b[0;34m,\u001b[0m \u001b[0mpd\u001b[0m\u001b[0;34m.\u001b[0m\u001b[0mDataFrame\u001b[0m\u001b[0;34m(\u001b[0m\u001b[0mdict_\u001b[0m\u001b[0;34m,\u001b[0m \u001b[0mindex\u001b[0m\u001b[0;34m=\u001b[0m\u001b[0;34m[\u001b[0m\u001b[0mindex\u001b[0m\u001b[0;34m]\u001b[0m\u001b[0;34m)\u001b[0m\u001b[0;34m]\u001b[0m\u001b[0;34m)\u001b[0m\u001b[0;34m\u001b[0m\u001b[0;34m\u001b[0m\u001b[0m\n\u001b[0m\u001b[1;32m    138\u001b[0m                 \u001b[0mindex\u001b[0m \u001b[0;34m+=\u001b[0m \u001b[0;36m1\u001b[0m\u001b[0;34m\u001b[0m\u001b[0;34m\u001b[0m\u001b[0m\n\u001b[1;32m    139\u001b[0m \u001b[0;34m\u001b[0m\u001b[0m\n",
      "\u001b[0;32m~/anaconda3/envs/plipy39/lib/python3.9/site-packages/pandas/core/frame.py\u001b[0m in \u001b[0;36m__init__\u001b[0;34m(self, data, index, columns, dtype, copy)\u001b[0m\n\u001b[1;32m    635\u001b[0m         \u001b[0;32melif\u001b[0m \u001b[0misinstance\u001b[0m\u001b[0;34m(\u001b[0m\u001b[0mdata\u001b[0m\u001b[0;34m,\u001b[0m \u001b[0mdict\u001b[0m\u001b[0;34m)\u001b[0m\u001b[0;34m:\u001b[0m\u001b[0;34m\u001b[0m\u001b[0;34m\u001b[0m\u001b[0m\n\u001b[1;32m    636\u001b[0m             \u001b[0;31m# GH#38939 de facto copy defaults to False only in non-dict cases\u001b[0m\u001b[0;34m\u001b[0m\u001b[0;34m\u001b[0m\u001b[0m\n\u001b[0;32m--> 637\u001b[0;31m             \u001b[0mmgr\u001b[0m \u001b[0;34m=\u001b[0m \u001b[0mdict_to_mgr\u001b[0m\u001b[0;34m(\u001b[0m\u001b[0mdata\u001b[0m\u001b[0;34m,\u001b[0m \u001b[0mindex\u001b[0m\u001b[0;34m,\u001b[0m \u001b[0mcolumns\u001b[0m\u001b[0;34m,\u001b[0m \u001b[0mdtype\u001b[0m\u001b[0;34m=\u001b[0m\u001b[0mdtype\u001b[0m\u001b[0;34m,\u001b[0m \u001b[0mcopy\u001b[0m\u001b[0;34m=\u001b[0m\u001b[0mcopy\u001b[0m\u001b[0;34m,\u001b[0m \u001b[0mtyp\u001b[0m\u001b[0;34m=\u001b[0m\u001b[0mmanager\u001b[0m\u001b[0;34m)\u001b[0m\u001b[0;34m\u001b[0m\u001b[0;34m\u001b[0m\u001b[0m\n\u001b[0m\u001b[1;32m    638\u001b[0m         \u001b[0;32melif\u001b[0m \u001b[0misinstance\u001b[0m\u001b[0;34m(\u001b[0m\u001b[0mdata\u001b[0m\u001b[0;34m,\u001b[0m \u001b[0mma\u001b[0m\u001b[0;34m.\u001b[0m\u001b[0mMaskedArray\u001b[0m\u001b[0;34m)\u001b[0m\u001b[0;34m:\u001b[0m\u001b[0;34m\u001b[0m\u001b[0;34m\u001b[0m\u001b[0m\n\u001b[1;32m    639\u001b[0m             \u001b[0;32mimport\u001b[0m \u001b[0mnumpy\u001b[0m\u001b[0;34m.\u001b[0m\u001b[0mma\u001b[0m\u001b[0;34m.\u001b[0m\u001b[0mmrecords\u001b[0m \u001b[0;32mas\u001b[0m \u001b[0mmrecords\u001b[0m\u001b[0;34m\u001b[0m\u001b[0;34m\u001b[0m\u001b[0m\n",
      "\u001b[0;32m~/anaconda3/envs/plipy39/lib/python3.9/site-packages/pandas/core/internals/construction.py\u001b[0m in \u001b[0;36mdict_to_mgr\u001b[0;34m(data, index, columns, dtype, typ, copy)\u001b[0m\n\u001b[1;32m    500\u001b[0m         \u001b[0;31m# TODO: can we get rid of the dt64tz special case above?\u001b[0m\u001b[0;34m\u001b[0m\u001b[0;34m\u001b[0m\u001b[0m\n\u001b[1;32m    501\u001b[0m \u001b[0;34m\u001b[0m\u001b[0m\n\u001b[0;32m--> 502\u001b[0;31m     \u001b[0;32mreturn\u001b[0m \u001b[0marrays_to_mgr\u001b[0m\u001b[0;34m(\u001b[0m\u001b[0marrays\u001b[0m\u001b[0;34m,\u001b[0m \u001b[0mcolumns\u001b[0m\u001b[0;34m,\u001b[0m \u001b[0mindex\u001b[0m\u001b[0;34m,\u001b[0m \u001b[0mdtype\u001b[0m\u001b[0;34m=\u001b[0m\u001b[0mdtype\u001b[0m\u001b[0;34m,\u001b[0m \u001b[0mtyp\u001b[0m\u001b[0;34m=\u001b[0m\u001b[0mtyp\u001b[0m\u001b[0;34m,\u001b[0m \u001b[0mconsolidate\u001b[0m\u001b[0;34m=\u001b[0m\u001b[0mcopy\u001b[0m\u001b[0;34m)\u001b[0m\u001b[0;34m\u001b[0m\u001b[0;34m\u001b[0m\u001b[0m\n\u001b[0m\u001b[1;32m    503\u001b[0m \u001b[0;34m\u001b[0m\u001b[0m\n\u001b[1;32m    504\u001b[0m \u001b[0;34m\u001b[0m\u001b[0m\n",
      "\u001b[0;32m~/anaconda3/envs/plipy39/lib/python3.9/site-packages/pandas/core/internals/construction.py\u001b[0m in \u001b[0;36marrays_to_mgr\u001b[0;34m(arrays, columns, index, dtype, verify_integrity, typ, consolidate)\u001b[0m\n\u001b[1;32m    123\u001b[0m \u001b[0;34m\u001b[0m\u001b[0m\n\u001b[1;32m    124\u001b[0m         \u001b[0;31m# don't force copy because getting jammed in an ndarray anyway\u001b[0m\u001b[0;34m\u001b[0m\u001b[0;34m\u001b[0m\u001b[0m\n\u001b[0;32m--> 125\u001b[0;31m         \u001b[0marrays\u001b[0m \u001b[0;34m=\u001b[0m \u001b[0m_homogenize\u001b[0m\u001b[0;34m(\u001b[0m\u001b[0marrays\u001b[0m\u001b[0;34m,\u001b[0m \u001b[0mindex\u001b[0m\u001b[0;34m,\u001b[0m \u001b[0mdtype\u001b[0m\u001b[0;34m)\u001b[0m\u001b[0;34m\u001b[0m\u001b[0;34m\u001b[0m\u001b[0m\n\u001b[0m\u001b[1;32m    126\u001b[0m         \u001b[0;31m# _homogenize ensures\u001b[0m\u001b[0;34m\u001b[0m\u001b[0;34m\u001b[0m\u001b[0m\n\u001b[1;32m    127\u001b[0m         \u001b[0;31m#  - all(len(x) == len(index) for x in arrays)\u001b[0m\u001b[0;34m\u001b[0m\u001b[0;34m\u001b[0m\u001b[0m\n",
      "\u001b[0;32m~/anaconda3/envs/plipy39/lib/python3.9/site-packages/pandas/core/internals/construction.py\u001b[0m in \u001b[0;36m_homogenize\u001b[0;34m(data, index, dtype)\u001b[0m\n\u001b[1;32m    626\u001b[0m                 \u001b[0mval\u001b[0m\u001b[0;34m,\u001b[0m \u001b[0mindex\u001b[0m\u001b[0;34m,\u001b[0m \u001b[0mdtype\u001b[0m\u001b[0;34m=\u001b[0m\u001b[0mdtype\u001b[0m\u001b[0;34m,\u001b[0m \u001b[0mcopy\u001b[0m\u001b[0;34m=\u001b[0m\u001b[0;32mFalse\u001b[0m\u001b[0;34m,\u001b[0m \u001b[0mraise_cast_failure\u001b[0m\u001b[0;34m=\u001b[0m\u001b[0;32mFalse\u001b[0m\u001b[0;34m\u001b[0m\u001b[0;34m\u001b[0m\u001b[0m\n\u001b[1;32m    627\u001b[0m             )\n\u001b[0;32m--> 628\u001b[0;31m             \u001b[0mcom\u001b[0m\u001b[0;34m.\u001b[0m\u001b[0mrequire_length_match\u001b[0m\u001b[0;34m(\u001b[0m\u001b[0mval\u001b[0m\u001b[0;34m,\u001b[0m \u001b[0mindex\u001b[0m\u001b[0;34m)\u001b[0m\u001b[0;34m\u001b[0m\u001b[0;34m\u001b[0m\u001b[0m\n\u001b[0m\u001b[1;32m    629\u001b[0m \u001b[0;34m\u001b[0m\u001b[0m\n\u001b[1;32m    630\u001b[0m         \u001b[0mhomogenized\u001b[0m\u001b[0;34m.\u001b[0m\u001b[0mappend\u001b[0m\u001b[0;34m(\u001b[0m\u001b[0mval\u001b[0m\u001b[0;34m)\u001b[0m\u001b[0;34m\u001b[0m\u001b[0;34m\u001b[0m\u001b[0m\n",
      "\u001b[0;32m~/anaconda3/envs/plipy39/lib/python3.9/site-packages/pandas/core/common.py\u001b[0m in \u001b[0;36mrequire_length_match\u001b[0;34m(data, index)\u001b[0m\n\u001b[1;32m    555\u001b[0m     \"\"\"\n\u001b[1;32m    556\u001b[0m     \u001b[0;32mif\u001b[0m \u001b[0mlen\u001b[0m\u001b[0;34m(\u001b[0m\u001b[0mdata\u001b[0m\u001b[0;34m)\u001b[0m \u001b[0;34m!=\u001b[0m \u001b[0mlen\u001b[0m\u001b[0;34m(\u001b[0m\u001b[0mindex\u001b[0m\u001b[0;34m)\u001b[0m\u001b[0;34m:\u001b[0m\u001b[0;34m\u001b[0m\u001b[0;34m\u001b[0m\u001b[0m\n\u001b[0;32m--> 557\u001b[0;31m         raise ValueError(\n\u001b[0m\u001b[1;32m    558\u001b[0m             \u001b[0;34m\"Length of values \"\u001b[0m\u001b[0;34m\u001b[0m\u001b[0;34m\u001b[0m\u001b[0m\n\u001b[1;32m    559\u001b[0m             \u001b[0;34mf\"({len(data)}) \"\u001b[0m\u001b[0;34m\u001b[0m\u001b[0;34m\u001b[0m\u001b[0m\n",
      "\u001b[0;31mValueError\u001b[0m: Length of values (2) does not match length of index (1)"
     ]
    }
   ],
   "source": [
    "trialobj.data.df = trialobj.data.convert_to_df()"
   ]
  },
  {
   "cell_type": "code",
   "execution_count": null,
   "id": "7d1296cc",
   "metadata": {
    "collapsed": false,
    "pycharm": {
     "name": "#%%\n"
    }
   },
   "outputs": [],
   "source": [
    "import seaborn as sns\n",
    "import matplotlib.pyplot as plt\n",
    "\n",
    "sns.scatterplot(data=df, x=\"group\", y=\"test_data\")\n",
    "plt.show()\n"
   ]
  }
 ],
 "metadata": {
  "kernelspec": {
   "display_name": "Python 3",
   "language": "python",
   "name": "python3"
  },
  "language_info": {
   "codemirror_mode": {
    "name": "ipython",
    "version": 3
   },
   "file_extension": ".py",
   "mimetype": "text/x-python",
   "name": "python",
   "nbconvert_exporter": "python",
   "pygments_lexer": "ipython3",
   "version": "3.7.4"
  }
 },
 "nbformat": 4,
 "nbformat_minor": 5
}

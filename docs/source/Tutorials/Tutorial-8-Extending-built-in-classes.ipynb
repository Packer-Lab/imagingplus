{
 "cells": [
  {
   "cell_type": "markdown",
   "metadata": {
    "collapsed": true,
    "pycharm": {
     "name": "#%% md\n"
    }
   },
   "source": [
    "# Extending built in classes"
   ]
  },
  {
   "cell_type": "markdown",
   "source": [
    "This tutorial covers how to extend built-in classes to further customize your use of the package to suit your own unique data processing/anaysis needs.\n",
    "\n",
    "Let's say there is a particular analysis use-case that is not provided as a built-in in the current package release, by following the object-oriented structure of the package you can quickly create and add methods to extend the functionality of all existing class structures."
   ],
   "metadata": {
    "collapsed": false,
    "pycharm": {
     "name": "#%% md\n"
    }
   }
  },
  {
   "cell_type": "markdown",
   "source": [
    "#### Creating a custom class for Interneuron Gcamp imaging during seizures"
   ],
   "metadata": {
    "collapsed": false,
    "pycharm": {
     "name": "#%% md\n"
    }
   }
  },
  {
   "cell_type": "markdown",
   "source": [
    "In the following example, we create a custom `Experiment` class by using the inheritance principles of Python. We create a new `Experiment` class called `InterneuronExp` that extends the built-in `Experiment` class.\n",
    "\n",
    "\n",
    "In this experiment, Gcamp imaging was performed in Nkx2.1-cre-mCherry mice which label a sub-type of interneurons with mCherry. There were also two experimental phases of imaging: pre-4ap and post-4ap. We require a number of functionalities in this class that are not available in the built-in `Experiment` class structure:\n",
    "1) a list of trials in the pre4ap injection phase\n",
    "2) a list of trials in the post4ap injection phase\n",
    "3) a list of Suite2p ROIs that are also interneurons\n",
    "3a) add this list as a `obs` entry into the `anndata` storage of all trials\n",
    "\n",
    "We also need to further create a custom `Trial` class to store trial-level data that is not allowed using built-in methods/attributes. This is demonstrated further below."
   ],
   "metadata": {
    "collapsed": false,
    "pycharm": {
     "name": "#%% md\n"
    }
   }
  },
  {
   "cell_type": "code",
   "execution_count": null,
   "outputs": [],
   "source": [
    "import packerlabimaging as pli\n",
    "\n",
    "\n",
    "class InterneuronExp(pli.Experiment):\n",
    "    def __init__(self, initalization_dict):\n",
    "\n",
    "        super().__init__(**initalization_dict)  # call to initialize the super-class (i.e. `pli.Experiment`)\n",
    "\n",
    "        # set pre4ap and post4ap experiments:\n",
    "        self.pre4ap_trials = []\n",
    "        for trial in self.trialIDs:\n",
    "            self.pre4ap_trials.append(trial) if 'pre 4ap' in self.TrialsInformation[trial]['expGroup'] else None\n",
    "\n",
    "        self.post4ap_trials = []\n",
    "        for trial in self.trialIDs:\n",
    "            self.post4ap_trials.append(trial) if 'post 4ap' in self.TrialsInformation[trial]['expGroup'] else None"
   ],
   "metadata": {
    "collapsed": false,
    "pycharm": {
     "name": "#%%\n"
    }
   }
  },
  {
   "cell_type": "code",
   "execution_count": null,
   "outputs": [],
   "source": [
    "# create the initialization dictionary containing information about trials within this experiment\n",
    "\n",
    "prep = 'PS12'\n",
    "date = '2021-01-25'\n",
    "\n",
    "\n",
    "initialization_dict = {\n",
    "    'dataPath': f'/home/pshah/mnt/qnap/Data/{date}',  # todo this seems very vauge, maybe add very specific documentation about what this is supposed to be, or just say tiff path?\n",
    "    'analysisSavePath': f'/home/pshah/mnt/qnap/Analysis/{date}/{prep}/',\n",
    "    'microscope': \"Bruker\",\n",
    "    \"expID\": prep,\n",
    "    'date': date,\n",
    "    'comments': f'{prep} - interneuron gcamp imaging + LFP pre- and post-4ap',\n",
    "    'TrialsInformation': {},  # NOTE: this dictionary is populated in the code cells below.\n",
    "    'useSuite2p': True,\n",
    "    's2pResultsPath': '/home/pshah/mnt/qnap/Analysis/2021-01-25/PS12//suite2p//plane0/'  # todo unclear what to put here when suite2p hasn't been done yet...\n",
    "}\n",
    "\n",
    "\n",
    "# add information about each trial in experiment to trialsInformation field of the initialization_dict\n",
    "trials_list_pre4ap = ['t-001', 't-002', 't-003']\n",
    "# todo - add functionality to add longer detailed comments for each trial (e.g. t-001: 30 mins spont, t-002: 30 mins spont + LFP, etc.) (other than expGroup)\n",
    "\n",
    "for idx, trial in enumerate(trials_list_pre4ap):\n",
    "    data_path_base = f'/home/pshah/mnt/qnap/Data/{date}'  # same as above, unclear what this is supposed to be.. (need more clear argument name)\n",
    "    animal_prep = initialization_dict['expID']\n",
    "    date = data_path_base[-10:]\n",
    "\n",
    "    ## everything below should autopopulate\n",
    "    paqs_loc = f'{data_path_base}/{date}_{animal_prep}_{trial[2:]}.paq'  # path to the .paq files for the selected trials\n",
    "    tiffs_loc = f'{data_path_base}/{date}_{trial}/{date}_{trial}_Cycle00001_Ch3.tif'\n",
    "\n",
    "    initialization_dict[\"TrialsInformation\"][trial] = {'trialType': 'TwoPhotonImagingTrial',  # need some way of explaining the possible arguments accepted in trialType\n",
    "                                       'tiff_path': f\"{tiffs_loc}\",\n",
    "                                       's2p_use': True,\n",
    "                                       'expGroup': \"pre 4ap 2p imaging\",\n",
    "                                       'PaqInfoTrial': {'paq_path': paqs_loc,\n",
    "                                                        'frame_channel': 'frame_clock'}\n",
    "                                                       }\n",
    "\n",
    "\n",
    "trials_list_post4ap = ['t-006', 't-007', 't-008', 't-009']\n",
    "for idx, trial in enumerate(trials_list_post4ap):\n",
    "    data_path_base = f'/home/pshah/mnt/qnap/Data/{date}'  # same as above, unclear what this is supposed to be.. (need more clear argument name)\n",
    "    animal_prep = initialization_dict['expID']\n",
    "    date = data_path_base[-10:]\n",
    "\n",
    "    ## everything below should autopopulate\n",
    "    paqs_loc = f'{data_path_base}/{date}_{animal_prep}_{trial[2:]}.paq'  # path to the .paq files for the selected trials\n",
    "    tiffs_loc = f'{data_path_base}/{date}_{trial}/{date}_{trial}_Cycle00001_Ch3.tif'\n",
    "\n",
    "    initialization_dict[\"TrialsInformation\"][trial] = {'trialType': 'TwoPhotonImagingTrial',  # need some way of explaining the possible arguments accepted in trialType\n",
    "                                       'tiff_path': f\"{tiffs_loc}\",\n",
    "                                       's2p_use': True,\n",
    "                                       'expGroup': \"post 4ap 2p imaging\",\n",
    "                                       'PaqInfoTrial': {'paq_path': paqs_loc,\n",
    "                                                        'frame_channel': 'frame_clock'}\n",
    "                                                       }\n"
   ],
   "metadata": {
    "collapsed": false,
    "pycharm": {
     "name": "#%%\n"
    }
   }
  },
  {
   "cell_type": "code",
   "execution_count": null,
   "outputs": [],
   "source": [
    "expobj = InterneuronExp(initalization_dict=initialization_dict)"
   ],
   "metadata": {
    "collapsed": false,
    "pycharm": {
     "name": "#%%\n"
    }
   }
  }
 ],
 "metadata": {
  "kernelspec": {
   "display_name": "Python 3",
   "language": "python",
   "name": "python3"
  },
  "language_info": {
   "codemirror_mode": {
    "name": "ipython",
    "version": 2
   },
   "file_extension": ".py",
   "mimetype": "text/x-python",
   "name": "python",
   "nbconvert_exporter": "python",
   "pygments_lexer": "ipython2",
   "version": "2.7.6"
  }
 },
 "nbformat": 4,
 "nbformat_minor": 0
}
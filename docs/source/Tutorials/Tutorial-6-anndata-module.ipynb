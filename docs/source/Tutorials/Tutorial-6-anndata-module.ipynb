{
 "cells": [
  {
   "cell_type": "markdown",
   "id": "443e2484",
   "metadata": {},
   "source": [
    "# Tutorial 6 - Annotated Data Module\n",
    "\n",
    "The AnnData library is the primary protocol that is used to store imaging data in an efficient, multi-functional format. It is created using the `anndata` sub-module and can be accessed using `trialobj.data`. By default, `trialobj.data` is a data array generated from Suite2p processed data.\n",
    "For all guidance on AnnData objects, visit: https://anndata.readthedocs.io/en/latest/index.html.\n"
   ]
  },
  {
   "cell_type": "markdown",
   "id": "c43ad439",
   "metadata": {},
   "source": [
    "The AnnData object is built around the raw Flu matrix of each `trialobj` . In keeping with AnnData conventions, the data structure is organized in *n* observations (obs) x *m* variables (var), where observations are suite2p ROIs and variables are imaging frame timepoints.\n"
   ]
  },
  {
   "cell_type": "code",
   "execution_count": 1,
   "id": "e264a104",
   "metadata": {
    "pycharm": {
     "name": "#%%\n"
    }
   },
   "outputs": [
    {
     "name": "stdout",
     "output_type": "stream",
     "text": [
      "\n",
      "imported imagingplus successfully\n",
      "\tversion: 0.2-beta\n",
      "\n"
     ]
    }
   ],
   "source": [
    "import imagingplus as ip"
   ]
  },
  {
   "cell_type": "code",
   "execution_count": 2,
   "id": "1f11f9ba",
   "metadata": {
    "pycharm": {
     "name": "#%%\n"
    }
   },
   "outputs": [
    {
     "name": "stdout",
     "output_type": "stream",
     "text": [
      "\n",
      "|- Loaded imagingplus.Experiment object (expID: RL109)109_analysis.pkl ... \n",
      "\n",
      "Trials in expobj: ['t-005', 't-006', 't-013']\n",
      "\n",
      "|- Loaded TwoPhotonImagingTrial.alloptical experimental trial object ... \n",
      "\n"
     ]
    }
   ],
   "source": [
    "expobj: ip.Experiment = ip.import_obj(pkl_path='/mnt/qnap_share/Data/imagingplus-example/RL109_analysis.pkl')\n",
    "print(f'Trials in expobj: {expobj.trialIDs}')\n",
    "trialobj = expobj.load_trial(trialID=expobj.trialIDs[2])"
   ]
  },
  {
   "cell_type": "code",
   "execution_count": 3,
   "id": "9264f873",
   "metadata": {
    "pycharm": {
     "name": "#%%\n"
    }
   },
   "outputs": [
    {
     "data": {
      "text/plain": [
       "Annotated Data of n_obs (# ROIs) × n_vars (# Frames) = 640 × 16368"
      ]
     },
     "execution_count": 3,
     "metadata": {},
     "output_type": "execute_result"
    }
   ],
   "source": [
    "trialobj.data  # this is the anndata object for this trial"
   ]
  },
  {
   "cell_type": "markdown",
   "id": "12099295",
   "metadata": {},
   "source": [
    "## storage of Flu data\n",
    "\n",
    "The raw data is stored in `.X`"
   ]
  },
  {
   "cell_type": "code",
   "execution_count": 4,
   "id": "ceda35c3",
   "metadata": {
    "pycharm": {
     "name": "#%%\n"
    }
   },
   "outputs": [
    {
     "name": "stdout",
     "output_type": "stream",
     "text": [
      "[[352.13678  411.9472   280.92416  ... 401.3014   515.2566   541.41565 ]\n",
      " [192.22421  395.29306  330.7496   ... 257.25806  285.31506  126.660484]\n",
      " [336.64996  539.26746  219.30368  ... 423.15295  433.1515   220.52742 ]\n",
      " ...\n",
      " [308.56497  303.55536  413.3554   ... 482.61044  386.2576   283.1643  ]\n",
      " [133.96815  122.96908   84.63106  ... 109.2256   187.91866  159.50813 ]\n",
      " [252.49574  240.2455   273.2785   ... 181.601    229.0061   278.74188 ]]\n",
      "shape:  (640, 16368)\n"
     ]
    }
   ],
   "source": [
    "print(trialobj.data.X)\n",
    "\n",
    "print('shape: ', trialobj.data.X.shape)"
   ]
  },
  {
   "cell_type": "markdown",
   "id": "23a050de",
   "metadata": {},
   "source": [
    "Processed data is added to `trialobj.data` as a unique `layers` key."
   ]
  },
  {
   "cell_type": "code",
   "execution_count": 5,
   "id": "598e1e29",
   "metadata": {
    "pycharm": {
     "name": "#%%\n"
    }
   },
   "outputs": [
    {
     "data": {
      "text/plain": [
       "Layers with keys: "
      ]
     },
     "execution_count": 5,
     "metadata": {},
     "output_type": "execute_result"
    }
   ],
   "source": [
    "trialobj.data.layers"
   ]
  },
  {
   "cell_type": "code",
   "execution_count": 6,
   "id": "532dfe99",
   "metadata": {},
   "outputs": [
    {
     "name": "stdout",
     "output_type": "stream",
     "text": [
      "Warning:\n",
      "Cell 16: contains nan\n",
      "      Mean of the sub-threshold for this cell: nan\n",
      "Warning:\n",
      "Cell 410: contains nan\n",
      "      Mean of the sub-threshold for this cell: nan\n",
      "Add new dFF layer. \n",
      "\tLayers in object: Layers with keys: dFF\n",
      "Layers with keys: dFF\n"
     ]
    }
   ],
   "source": [
    "# Let's add dFF processing of the raw calcium sigals as a new layer:\n",
    "\n",
    "from imagingplus.processing.imaging import normalize_dff\n",
    "\n",
    "dff_arr = normalize_dff(arr=trialobj.data.X, normalize_pct=50)\n",
    "\n",
    "trialobj.data.add_layer(layer_name='dFF', data=dff_arr)\n",
    "print(trialobj.data.layers)"
   ]
  },
  {
   "cell_type": "code",
   "execution_count": 7,
   "id": "fa0071d3",
   "metadata": {
    "pycharm": {
     "name": "#%%\n"
    }
   },
   "outputs": [
    {
     "name": "stdout",
     "output_type": "stream",
     "text": [
      "[[  3.0254273   20.524294   -17.809402   ...  17.409626    50.74975\n",
      "   58.40316   ]\n",
      " [-25.098614    54.028458    28.878689   ...   0.24223907  11.17483\n",
      "  -50.645935  ]\n",
      " [ 17.842701    88.76798    -23.2338     ...  48.122658    51.6226\n",
      "  -22.805437  ]\n",
      " ...\n",
      " [ 27.989037    25.911108    71.45485    ... 100.18099     60.215004\n",
      "   17.453144  ]\n",
      " [ 14.804955     5.379218   -27.474817   ...  -6.3983517   61.038216\n",
      "   36.69162   ]\n",
      " [ 42.591587    35.67352     54.32821    ...   2.5552905   29.326313\n",
      "   57.41353   ]]\n",
      "shape:  (640, 16368)\n"
     ]
    }
   ],
   "source": [
    "print(trialobj.data.layers['dFF'])\n",
    "\n",
    "print('shape: ', trialobj.data.layers['dFF'].shape)\n"
   ]
  },
  {
   "cell_type": "markdown",
   "id": "68da3ca3",
   "metadata": {},
   "source": [
    "The rest of the AnnData data object is built according to the dimensions of the original Flu data input."
   ]
  },
  {
   "cell_type": "markdown",
   "id": "6978862f",
   "metadata": {},
   "source": [
    "## observations (Suite2p ROIs metadata and associated processing info)\n",
    "\n",
    "For instance, the metadata for each suite2p ROI stored in Suite2p’s stat.npy output is added to `trialobject.data` under `obs` and `obsm` (1D and >1-D observations annotations, respectively)."
   ]
  },
  {
   "cell_type": "code",
   "execution_count": 8,
   "id": "1b79e2eb",
   "metadata": {
    "pycharm": {
     "name": "#%%\n"
    }
   },
   "outputs": [
    {
     "data": {
      "text/html": [
       "<div>\n",
       "<style scoped>\n",
       "    .dataframe tbody tr th:only-of-type {\n",
       "        vertical-align: middle;\n",
       "    }\n",
       "\n",
       "    .dataframe tbody tr th {\n",
       "        vertical-align: top;\n",
       "    }\n",
       "\n",
       "    .dataframe thead th {\n",
       "        text-align: right;\n",
       "    }\n",
       "</style>\n",
       "<table border=\"1\" class=\"dataframe\">\n",
       "  <thead>\n",
       "    <tr style=\"text-align: right;\">\n",
       "      <th></th>\n",
       "      <th>ypix</th>\n",
       "      <th>xpix</th>\n",
       "      <th>lam</th>\n",
       "      <th>footprint</th>\n",
       "      <th>mrs</th>\n",
       "      <th>...</th>\n",
       "      <th>radius</th>\n",
       "      <th>aspect_ratio</th>\n",
       "      <th>npix_norm</th>\n",
       "      <th>skew</th>\n",
       "      <th>std</th>\n",
       "    </tr>\n",
       "  </thead>\n",
       "  <tbody>\n",
       "    <tr>\n",
       "      <th>0</th>\n",
       "      <td>[102, 102, 102, 102, 102, 103, 103, 103, 103, ...</td>\n",
       "      <td>[457, 458, 459, 460, 461, 456, 457, 458, 459, ...</td>\n",
       "      <td>[0.0063846777, 0.008958542, 0.011363007, 0.011...</td>\n",
       "      <td>1.0</td>\n",
       "      <td>0.909815</td>\n",
       "      <td>...</td>\n",
       "      <td>3.565604</td>\n",
       "      <td>1.051397</td>\n",
       "      <td>0.649175</td>\n",
       "      <td>3.016955</td>\n",
       "      <td>353.675049</td>\n",
       "    </tr>\n",
       "    <tr>\n",
       "      <th>1</th>\n",
       "      <td>[46, 46, 46, 46, 46, 46, 47, 47, 47, 47, 47, 4...</td>\n",
       "      <td>[116, 117, 118, 119, 120, 121, 114, 115, 116, ...</td>\n",
       "      <td>[0.009095913, 0.014569374, 0.01832514, 0.01890...</td>\n",
       "      <td>1.0</td>\n",
       "      <td>0.912076</td>\n",
       "      <td>...</td>\n",
       "      <td>3.538468</td>\n",
       "      <td>1.074428</td>\n",
       "      <td>0.622126</td>\n",
       "      <td>3.784652</td>\n",
       "      <td>422.922577</td>\n",
       "    </tr>\n",
       "    <tr>\n",
       "      <th>2</th>\n",
       "      <td>[18, 18, 18, 18, 19, 19, 19, 19, 19, 19, 19, 1...</td>\n",
       "      <td>[202, 203, 204, 205, 200, 201, 202, 203, 204, ...</td>\n",
       "      <td>[0.00545189, 0.006088022, 0.0062021483, 0.0052...</td>\n",
       "      <td>1.0</td>\n",
       "      <td>1.088559</td>\n",
       "      <td>...</td>\n",
       "      <td>4.124215</td>\n",
       "      <td>1.027475</td>\n",
       "      <td>0.919665</td>\n",
       "      <td>3.603348</td>\n",
       "      <td>342.368134</td>\n",
       "    </tr>\n",
       "    <tr>\n",
       "      <th>3</th>\n",
       "      <td>[43, 44, 45, 46, 46, 47, 47, 47, 48, 48, 48, 4...</td>\n",
       "      <td>[352, 352, 352, 352, 353, 352, 353, 354, 351, ...</td>\n",
       "      <td>[0.0036495698, 0.0043396214, 0.0031816224, 0.0...</td>\n",
       "      <td>1.0</td>\n",
       "      <td>1.561322</td>\n",
       "      <td>...</td>\n",
       "      <td>8.133019</td>\n",
       "      <td>1.348522</td>\n",
       "      <td>1.325399</td>\n",
       "      <td>3.187822</td>\n",
       "      <td>357.666168</td>\n",
       "    </tr>\n",
       "    <tr>\n",
       "      <th>4</th>\n",
       "      <td>[156, 156, 156, 156, 156, 157, 157, 157, 157, ...</td>\n",
       "      <td>[382, 383, 384, 385, 386, 380, 381, 382, 383, ...</td>\n",
       "      <td>[0.013304887, 0.02187323, 0.023734575, 0.01969...</td>\n",
       "      <td>1.0</td>\n",
       "      <td>0.869808</td>\n",
       "      <td>...</td>\n",
       "      <td>3.62042</td>\n",
       "      <td>1.139261</td>\n",
       "      <td>0.554504</td>\n",
       "      <td>2.59998</td>\n",
       "      <td>263.609039</td>\n",
       "    </tr>\n",
       "    <tr>\n",
       "      <th>...</th>\n",
       "      <td>...</td>\n",
       "      <td>...</td>\n",
       "      <td>...</td>\n",
       "      <td>...</td>\n",
       "      <td>...</td>\n",
       "      <td>...</td>\n",
       "      <td>...</td>\n",
       "      <td>...</td>\n",
       "      <td>...</td>\n",
       "      <td>...</td>\n",
       "      <td>...</td>\n",
       "    </tr>\n",
       "    <tr>\n",
       "      <th>1241</th>\n",
       "      <td>[290, 291, 291, 291, 291, 291, 291, 291, 291, ...</td>\n",
       "      <td>[299, 298, 299, 300, 301, 302, 305, 306, 307, ...</td>\n",
       "      <td>[0.0029507184, 0.0032565512, 0.005071437, 0.00...</td>\n",
       "      <td>2.0</td>\n",
       "      <td>2.336259</td>\n",
       "      <td>...</td>\n",
       "      <td>11.46564</td>\n",
       "      <td>1.251471</td>\n",
       "      <td>2.447931</td>\n",
       "      <td>2.540658</td>\n",
       "      <td>94.641136</td>\n",
       "    </tr>\n",
       "    <tr>\n",
       "      <th>1242</th>\n",
       "      <td>[354, 354, 355, 355, 355, 355, 355, 356, 356, ...</td>\n",
       "      <td>[309, 310, 308, 309, 310, 311, 312, 307, 308, ...</td>\n",
       "      <td>[0.00252066, 0.0021455055, 0.007094776, 0.0078...</td>\n",
       "      <td>2.0</td>\n",
       "      <td>2.386548</td>\n",
       "      <td>...</td>\n",
       "      <td>10.831544</td>\n",
       "      <td>1.129317</td>\n",
       "      <td>2.934812</td>\n",
       "      <td>2.229956</td>\n",
       "      <td>79.882561</td>\n",
       "    </tr>\n",
       "    <tr>\n",
       "      <th>1246</th>\n",
       "      <td>[15, 15, 16, 16, 16, 17, 17, 17, 17, 17, 17, 1...</td>\n",
       "      <td>[488, 489, 486, 487, 489, 486, 487, 488, 489, ...</td>\n",
       "      <td>[0.010669279, 0.007242187, 0.013514522, 0.0124...</td>\n",
       "      <td>2.0</td>\n",
       "      <td>2.238235</td>\n",
       "      <td>...</td>\n",
       "      <td>13.789857</td>\n",
       "      <td>1.460301</td>\n",
       "      <td>1.636462</td>\n",
       "      <td>4.38241</td>\n",
       "      <td>55.825489</td>\n",
       "    </tr>\n",
       "    <tr>\n",
       "      <th>1250</th>\n",
       "      <td>[472, 472, 472, 473, 473, 473, 473, 473, 473, ...</td>\n",
       "      <td>[55, 56, 67, 55, 56, 57, 63, 64, 65, 66, 67, 6...</td>\n",
       "      <td>[0.0023643558, 0.0034383552, 0.0021977199, 0.0...</td>\n",
       "      <td>2.0</td>\n",
       "      <td>2.079421</td>\n",
       "      <td>...</td>\n",
       "      <td>10.794925</td>\n",
       "      <td>1.331867</td>\n",
       "      <td>2.583175</td>\n",
       "      <td>1.233372</td>\n",
       "      <td>64.879417</td>\n",
       "    </tr>\n",
       "    <tr>\n",
       "      <th>1251</th>\n",
       "      <td>[342, 342, 342, 343, 343, 343, 343, 343, 344, ...</td>\n",
       "      <td>[128, 129, 130, 126, 127, 128, 129, 130, 124, ...</td>\n",
       "      <td>[0.010067902, 0.007827523, 0.005219734, 0.0070...</td>\n",
       "      <td>2.0</td>\n",
       "      <td>1.777428</td>\n",
       "      <td>...</td>\n",
       "      <td>8.44572</td>\n",
       "      <td>1.100779</td>\n",
       "      <td>1.744658</td>\n",
       "      <td>2.057152</td>\n",
       "      <td>62.520458</td>\n",
       "    </tr>\n",
       "  </tbody>\n",
       "</table>\n",
       "<p>640 rows × 15 columns</p>\n",
       "</div>"
      ],
      "text/plain": [
       "                                                   ypix                                               xpix                                                lam footprint       mrs  ...     radius aspect_ratio npix_norm      skew         std\n",
       "0     [102, 102, 102, 102, 102, 103, 103, 103, 103, ...  [457, 458, 459, 460, 461, 456, 457, 458, 459, ...  [0.0063846777, 0.008958542, 0.011363007, 0.011...       1.0  0.909815  ...   3.565604     1.051397  0.649175  3.016955  353.675049\n",
       "1     [46, 46, 46, 46, 46, 46, 47, 47, 47, 47, 47, 4...  [116, 117, 118, 119, 120, 121, 114, 115, 116, ...  [0.009095913, 0.014569374, 0.01832514, 0.01890...       1.0  0.912076  ...   3.538468     1.074428  0.622126  3.784652  422.922577\n",
       "2     [18, 18, 18, 18, 19, 19, 19, 19, 19, 19, 19, 1...  [202, 203, 204, 205, 200, 201, 202, 203, 204, ...  [0.00545189, 0.006088022, 0.0062021483, 0.0052...       1.0  1.088559  ...   4.124215     1.027475  0.919665  3.603348  342.368134\n",
       "3     [43, 44, 45, 46, 46, 47, 47, 47, 48, 48, 48, 4...  [352, 352, 352, 352, 353, 352, 353, 354, 351, ...  [0.0036495698, 0.0043396214, 0.0031816224, 0.0...       1.0  1.561322  ...   8.133019     1.348522  1.325399  3.187822  357.666168\n",
       "4     [156, 156, 156, 156, 156, 157, 157, 157, 157, ...  [382, 383, 384, 385, 386, 380, 381, 382, 383, ...  [0.013304887, 0.02187323, 0.023734575, 0.01969...       1.0  0.869808  ...    3.62042     1.139261  0.554504   2.59998  263.609039\n",
       "...                                                 ...                                                ...                                                ...       ...       ...  ...        ...          ...       ...       ...         ...\n",
       "1241  [290, 291, 291, 291, 291, 291, 291, 291, 291, ...  [299, 298, 299, 300, 301, 302, 305, 306, 307, ...  [0.0029507184, 0.0032565512, 0.005071437, 0.00...       2.0  2.336259  ...   11.46564     1.251471  2.447931  2.540658   94.641136\n",
       "1242  [354, 354, 355, 355, 355, 355, 355, 356, 356, ...  [309, 310, 308, 309, 310, 311, 312, 307, 308, ...  [0.00252066, 0.0021455055, 0.007094776, 0.0078...       2.0  2.386548  ...  10.831544     1.129317  2.934812  2.229956   79.882561\n",
       "1246  [15, 15, 16, 16, 16, 17, 17, 17, 17, 17, 17, 1...  [488, 489, 486, 487, 489, 486, 487, 488, 489, ...  [0.010669279, 0.007242187, 0.013514522, 0.0124...       2.0  2.238235  ...  13.789857     1.460301  1.636462   4.38241   55.825489\n",
       "1250  [472, 472, 472, 473, 473, 473, 473, 473, 473, ...  [55, 56, 67, 55, 56, 57, 63, 64, 65, 66, 67, 6...  [0.0023643558, 0.0034383552, 0.0021977199, 0.0...       2.0  2.079421  ...  10.794925     1.331867  2.583175  1.233372   64.879417\n",
       "1251  [342, 342, 342, 343, 343, 343, 343, 343, 344, ...  [128, 129, 130, 126, 127, 128, 129, 130, 124, ...  [0.010067902, 0.007827523, 0.005219734, 0.0070...       2.0  1.777428  ...    8.44572     1.100779  1.744658  2.057152   62.520458\n",
       "\n",
       "[640 rows x 15 columns]"
      ]
     },
     "execution_count": 8,
     "metadata": {},
     "output_type": "execute_result"
    }
   ],
   "source": [
    "trialobj.data.obs"
   ]
  },
  {
   "cell_type": "code",
   "execution_count": 9,
   "id": "11aa574e",
   "metadata": {
    "pycharm": {
     "name": "#%%\n"
    }
   },
   "outputs": [
    {
     "data": {
      "text/plain": [
       "AxisArrays with keys: ypix, xpix"
      ]
     },
     "execution_count": 9,
     "metadata": {},
     "output_type": "execute_result"
    }
   ],
   "source": [
    "trialobj.data.obsm"
   ]
  },
  {
   "cell_type": "markdown",
   "id": "34048201",
   "metadata": {},
   "source": [
    "The `.obsm` includes the ypix and xpix outputs for each suite2p ROI which represent the pixel locations of the ROI mask."
   ]
  },
  {
   "cell_type": "code",
   "execution_count": 10,
   "id": "a30bb6e5",
   "metadata": {
    "pycharm": {
     "name": "#%%\n"
    }
   },
   "outputs": [
    {
     "name": "stdout",
     "output_type": "stream",
     "text": [
      "ypix: [array([102, 102, 102, 102, 102, 103, 103, 103, 103, 103, 103, 103, 104,\n",
      "       104, 104, 104, 104, 104, 104, 104, 105, 105, 105, 105, 105, 105,\n",
      "       105, 105, 106, 106, 106, 106, 106, 106, 106, 106, 107, 107, 107,\n",
      "       107, 107, 107, 107, 108, 108, 108, 108, 108])\n",
      " array([46, 46, 46, 46, 46, 46, 47, 47, 47, 47, 47, 47, 47, 47, 47, 48, 48,\n",
      "       48, 48, 48, 48, 48, 48, 49, 49, 49, 49, 49, 49, 49, 49, 50, 50, 50,\n",
      "       50, 50, 50, 50, 51, 51, 51, 51, 51, 52, 52, 52])\n",
      " array([18, 18, 18, 18, 19, 19, 19, 19, 19, 19, 19, 19, 20, 20, 20, 20, 20,\n",
      "       20, 20, 20, 20, 21, 21, 21, 21, 21, 21, 21, 21, 21, 21, 22, 22, 22,\n",
      "       22, 22, 22, 22, 22, 22, 22, 23, 23, 23, 23, 23, 23, 23, 23, 24, 24,\n",
      "       24, 24, 24, 24, 24, 24, 25, 25, 25, 25, 25, 25, 25, 26, 26, 26, 26])\n",
      " array([43, 44, 45, 46, 46, 47, 47, 47, 48, 48, 48, 48, 48, 49, 49, 49, 49,\n",
      "       49, 49, 50, 50, 50, 50, 50, 50, 50, 51, 51, 51, 51, 51, 51, 51, 52,\n",
      "       52, 52, 52, 52, 52, 52, 52, 52, 52, 52, 52, 53, 53, 53, 53, 53, 53,\n",
      "       53, 53, 53, 53, 53, 53, 54, 54, 54, 54, 54, 54, 54, 54, 54, 54, 55,\n",
      "       55, 55, 55, 55, 55, 55, 55, 55, 56, 56, 56, 56, 56, 56, 56, 56, 57,\n",
      "       57, 57, 57, 57, 57, 57, 58, 58, 58, 58, 58, 59, 59])\n",
      " array([156, 156, 156, 156, 156, 157, 157, 157, 157, 157, 157, 157, 157,\n",
      "       158, 158, 158, 158, 158, 158, 158, 158, 159, 159, 159, 159, 159,\n",
      "       159, 159, 159, 160, 160, 160, 160, 160, 160, 160, 161, 161, 161,\n",
      "       161, 161])] \n",
      "\n",
      "xpix: \t [array([457, 458, 459, 460, 461, 456, 457, 458, 459, 460, 461, 462, 455,\n",
      "       456, 457, 458, 459, 460, 461, 462, 455, 456, 457, 458, 459, 460,\n",
      "       461, 462, 455, 456, 457, 458, 459, 460, 461, 462, 456, 457, 458,\n",
      "       459, 460, 461, 462, 457, 458, 459, 460, 461])\n",
      " array([116, 117, 118, 119, 120, 121, 114, 115, 116, 117, 118, 119, 120,\n",
      "       121, 122, 115, 116, 117, 118, 119, 120, 121, 122, 115, 116, 117,\n",
      "       118, 119, 120, 121, 122, 116, 117, 118, 119, 120, 121, 122, 117,\n",
      "       118, 119, 120, 121, 118, 119, 120])\n",
      " array([202, 203, 204, 205, 200, 201, 202, 203, 204, 205, 206, 207, 200,\n",
      "       201, 202, 203, 204, 205, 206, 207, 208, 200, 201, 202, 203, 204,\n",
      "       205, 206, 207, 208, 209, 199, 200, 201, 202, 203, 204, 205, 206,\n",
      "       207, 208, 200, 201, 202, 203, 204, 205, 206, 207, 200, 201, 202,\n",
      "       203, 204, 205, 206, 207, 201, 202, 203, 204, 205, 206, 207, 202,\n",
      "       203, 204, 205])\n",
      " array([352, 352, 352, 352, 353, 352, 353, 354, 351, 352, 353, 354, 355,\n",
      "       350, 351, 352, 353, 354, 355, 350, 351, 352, 353, 354, 355, 356,\n",
      "       349, 350, 351, 352, 353, 354, 355, 349, 350, 351, 352, 353, 354,\n",
      "       355, 357, 358, 359, 360, 361, 350, 351, 352, 353, 354, 355, 356,\n",
      "       357, 358, 359, 360, 361, 352, 353, 354, 355, 356, 357, 358, 359,\n",
      "       360, 361, 354, 355, 356, 357, 358, 359, 360, 361, 362, 354, 355,\n",
      "       356, 357, 358, 359, 360, 361, 355, 356, 357, 358, 359, 360, 361,\n",
      "       357, 358, 359, 360, 361, 358, 359])\n",
      " array([382, 383, 384, 385, 386, 380, 381, 382, 383, 384, 385, 386, 387,\n",
      "       380, 381, 382, 383, 384, 385, 386, 387, 380, 381, 382, 383, 384,\n",
      "       385, 386, 387, 380, 381, 382, 383, 384, 385, 386, 381, 382, 383,\n",
      "       384, 385])]\n"
     ]
    }
   ],
   "source": [
    "print('ypix:', trialobj.data.obsm['ypix'][:5], '\\n\\nxpix: \\t', trialobj.data.obsm['xpix'][:5])"
   ]
  },
  {
   "cell_type": "markdown",
   "id": "09f8da01",
   "metadata": {},
   "source": [
    "## variables (temporal synchronization of paq channels and imaging)\n",
    "\n",
    "And the temporal synchronization data of the experiment collected in .paq output is added to the variables annotations under `var`. These variables are timed to the imaging frame clock timings. The total # of variables is the number of imaging frames in the original Flu data input."
   ]
  },
  {
   "cell_type": "code",
   "execution_count": 11,
   "id": "843dbee2",
   "metadata": {
    "pycharm": {
     "name": "#%%\n"
    }
   },
   "outputs": [
    {
     "data": {
      "text/html": [
       "<div>\n",
       "<style scoped>\n",
       "    .dataframe tbody tr th:only-of-type {\n",
       "        vertical-align: middle;\n",
       "    }\n",
       "\n",
       "    .dataframe tbody tr th {\n",
       "        vertical-align: top;\n",
       "    }\n",
       "\n",
       "    .dataframe thead th {\n",
       "        text-align: right;\n",
       "    }\n",
       "</style>\n",
       "<table border=\"1\" class=\"dataframe\">\n",
       "  <thead>\n",
       "    <tr style=\"text-align: right;\">\n",
       "      <th></th>\n",
       "      <th>frame_clock</th>\n",
       "      <th>x_galvo_uncaging</th>\n",
       "      <th>slm2packio</th>\n",
       "      <th>markpoints2packio</th>\n",
       "      <th>packio2slm</th>\n",
       "      <th>packio2markpoints</th>\n",
       "      <th>pycontrol_rsync</th>\n",
       "      <th>voltage</th>\n",
       "    </tr>\n",
       "  </thead>\n",
       "  <tbody>\n",
       "    <tr>\n",
       "      <th>139577</th>\n",
       "      <td>4.972792</td>\n",
       "      <td>-1.165180</td>\n",
       "      <td>3.329534</td>\n",
       "      <td>0.007827</td>\n",
       "      <td>0.000264</td>\n",
       "      <td>0.000592</td>\n",
       "      <td>0.017035</td>\n",
       "      <td>-0.116807</td>\n",
       "    </tr>\n",
       "    <tr>\n",
       "      <th>140252</th>\n",
       "      <td>4.974765</td>\n",
       "      <td>-1.164851</td>\n",
       "      <td>3.325917</td>\n",
       "      <td>0.007827</td>\n",
       "      <td>-0.000394</td>\n",
       "      <td>-0.000394</td>\n",
       "      <td>0.019666</td>\n",
       "      <td>-0.196060</td>\n",
       "    </tr>\n",
       "    <tr>\n",
       "      <th>140925</th>\n",
       "      <td>4.971806</td>\n",
       "      <td>-1.165180</td>\n",
       "      <td>3.337755</td>\n",
       "      <td>0.008156</td>\n",
       "      <td>-0.000065</td>\n",
       "      <td>0.000592</td>\n",
       "      <td>0.021310</td>\n",
       "      <td>-0.210858</td>\n",
       "    </tr>\n",
       "    <tr>\n",
       "      <th>141595</th>\n",
       "      <td>4.970819</td>\n",
       "      <td>-1.164851</td>\n",
       "      <td>3.331507</td>\n",
       "      <td>0.007827</td>\n",
       "      <td>0.000592</td>\n",
       "      <td>0.000264</td>\n",
       "      <td>0.021310</td>\n",
       "      <td>-0.204939</td>\n",
       "    </tr>\n",
       "    <tr>\n",
       "      <th>142267</th>\n",
       "      <td>4.975094</td>\n",
       "      <td>-1.166166</td>\n",
       "      <td>3.340715</td>\n",
       "      <td>0.006841</td>\n",
       "      <td>0.000264</td>\n",
       "      <td>0.001250</td>\n",
       "      <td>0.021639</td>\n",
       "      <td>-0.234206</td>\n",
       "    </tr>\n",
       "    <tr>\n",
       "      <th>...</th>\n",
       "      <td>...</td>\n",
       "      <td>...</td>\n",
       "      <td>...</td>\n",
       "      <td>...</td>\n",
       "      <td>...</td>\n",
       "      <td>...</td>\n",
       "      <td>...</td>\n",
       "      <td>...</td>\n",
       "    </tr>\n",
       "    <tr>\n",
       "      <th>11136216</th>\n",
       "      <td>4.974436</td>\n",
       "      <td>-1.165837</td>\n",
       "      <td>3.337426</td>\n",
       "      <td>0.006841</td>\n",
       "      <td>-0.000065</td>\n",
       "      <td>0.002565</td>\n",
       "      <td>0.021639</td>\n",
       "      <td>2.423554</td>\n",
       "    </tr>\n",
       "    <tr>\n",
       "      <th>11136886</th>\n",
       "      <td>4.975751</td>\n",
       "      <td>-1.164851</td>\n",
       "      <td>3.334138</td>\n",
       "      <td>0.012102</td>\n",
       "      <td>-0.000065</td>\n",
       "      <td>-0.000065</td>\n",
       "      <td>0.017035</td>\n",
       "      <td>2.473211</td>\n",
       "    </tr>\n",
       "    <tr>\n",
       "      <th>11137559</th>\n",
       "      <td>4.960953</td>\n",
       "      <td>-1.164851</td>\n",
       "      <td>3.337097</td>\n",
       "      <td>0.008485</td>\n",
       "      <td>0.000264</td>\n",
       "      <td>0.000921</td>\n",
       "      <td>0.019994</td>\n",
       "      <td>2.473211</td>\n",
       "    </tr>\n",
       "    <tr>\n",
       "      <th>11138232</th>\n",
       "      <td>4.971477</td>\n",
       "      <td>-1.167153</td>\n",
       "      <td>3.319340</td>\n",
       "      <td>0.006183</td>\n",
       "      <td>-0.000065</td>\n",
       "      <td>-0.000065</td>\n",
       "      <td>0.005525</td>\n",
       "      <td>2.466963</td>\n",
       "    </tr>\n",
       "    <tr>\n",
       "      <th>11138904</th>\n",
       "      <td>4.975751</td>\n",
       "      <td>-1.164851</td>\n",
       "      <td>3.329863</td>\n",
       "      <td>0.009471</td>\n",
       "      <td>0.000264</td>\n",
       "      <td>0.000592</td>\n",
       "      <td>0.017693</td>\n",
       "      <td>2.453151</td>\n",
       "    </tr>\n",
       "  </tbody>\n",
       "</table>\n",
       "<p>16368 rows × 8 columns</p>\n",
       "</div>"
      ],
      "text/plain": [
       "          frame_clock  x_galvo_uncaging  slm2packio  markpoints2packio  packio2slm  packio2markpoints  pycontrol_rsync   voltage\n",
       "139577       4.972792         -1.165180    3.329534           0.007827    0.000264           0.000592         0.017035 -0.116807\n",
       "140252       4.974765         -1.164851    3.325917           0.007827   -0.000394          -0.000394         0.019666 -0.196060\n",
       "140925       4.971806         -1.165180    3.337755           0.008156   -0.000065           0.000592         0.021310 -0.210858\n",
       "141595       4.970819         -1.164851    3.331507           0.007827    0.000592           0.000264         0.021310 -0.204939\n",
       "142267       4.975094         -1.166166    3.340715           0.006841    0.000264           0.001250         0.021639 -0.234206\n",
       "...               ...               ...         ...                ...         ...                ...              ...       ...\n",
       "11136216     4.974436         -1.165837    3.337426           0.006841   -0.000065           0.002565         0.021639  2.423554\n",
       "11136886     4.975751         -1.164851    3.334138           0.012102   -0.000065          -0.000065         0.017035  2.473211\n",
       "11137559     4.960953         -1.164851    3.337097           0.008485    0.000264           0.000921         0.019994  2.473211\n",
       "11138232     4.971477         -1.167153    3.319340           0.006183   -0.000065          -0.000065         0.005525  2.466963\n",
       "11138904     4.975751         -1.164851    3.329863           0.009471    0.000264           0.000592         0.017693  2.453151\n",
       "\n",
       "[16368 rows x 8 columns]"
      ]
     },
     "execution_count": 11,
     "metadata": {},
     "output_type": "execute_result"
    }
   ],
   "source": [
    "trialobj.data.var"
   ]
  },
  {
   "cell_type": "markdown",
   "id": "c90dabbf",
   "metadata": {},
   "source": [
    "### Creating or Modifying AnnData arrays of trialobj\n",
    "\n",
    "There are a number of helper functions to create anndata arrays or modify existing anndata arrays."
   ]
  },
  {
   "cell_type": "code",
   "execution_count": 12,
   "id": "029a122e",
   "metadata": {
    "pycharm": {
     "name": "#%%\n"
    }
   },
   "outputs": [
    {
     "data": {
      "text/html": [
       "<div>\n",
       "<style scoped>\n",
       "    .dataframe tbody tr th:only-of-type {\n",
       "        vertical-align: middle;\n",
       "    }\n",
       "\n",
       "    .dataframe tbody tr th {\n",
       "        vertical-align: top;\n",
       "    }\n",
       "\n",
       "    .dataframe thead th {\n",
       "        text-align: right;\n",
       "    }\n",
       "</style>\n",
       "<table border=\"1\" class=\"dataframe\">\n",
       "  <thead>\n",
       "    <tr style=\"text-align: right;\">\n",
       "      <th></th>\n",
       "      <th>0</th>\n",
       "      <th>1</th>\n",
       "      <th>2</th>\n",
       "      <th>3</th>\n",
       "      <th>4</th>\n",
       "      <th>...</th>\n",
       "      <th>9995</th>\n",
       "      <th>9996</th>\n",
       "      <th>9997</th>\n",
       "      <th>9998</th>\n",
       "      <th>9999</th>\n",
       "    </tr>\n",
       "  </thead>\n",
       "  <tbody>\n",
       "    <tr>\n",
       "      <th>0</th>\n",
       "      <td>0.088470</td>\n",
       "      <td>0.594978</td>\n",
       "      <td>0.267262</td>\n",
       "      <td>0.521285</td>\n",
       "      <td>0.427390</td>\n",
       "      <td>...</td>\n",
       "      <td>0.628226</td>\n",
       "      <td>0.491950</td>\n",
       "      <td>0.023748</td>\n",
       "      <td>0.910001</td>\n",
       "      <td>0.342909</td>\n",
       "    </tr>\n",
       "    <tr>\n",
       "      <th>1</th>\n",
       "      <td>0.421657</td>\n",
       "      <td>0.024940</td>\n",
       "      <td>0.345641</td>\n",
       "      <td>0.285778</td>\n",
       "      <td>0.339881</td>\n",
       "      <td>...</td>\n",
       "      <td>0.282903</td>\n",
       "      <td>0.818589</td>\n",
       "      <td>0.758343</td>\n",
       "      <td>0.068396</td>\n",
       "      <td>0.809684</td>\n",
       "    </tr>\n",
       "    <tr>\n",
       "      <th>2</th>\n",
       "      <td>0.642708</td>\n",
       "      <td>0.101187</td>\n",
       "      <td>0.787579</td>\n",
       "      <td>0.822067</td>\n",
       "      <td>0.329221</td>\n",
       "      <td>...</td>\n",
       "      <td>0.674419</td>\n",
       "      <td>0.082625</td>\n",
       "      <td>0.676742</td>\n",
       "      <td>0.711652</td>\n",
       "      <td>0.515747</td>\n",
       "    </tr>\n",
       "    <tr>\n",
       "      <th>3</th>\n",
       "      <td>0.741156</td>\n",
       "      <td>0.563763</td>\n",
       "      <td>0.390991</td>\n",
       "      <td>0.809422</td>\n",
       "      <td>0.628270</td>\n",
       "      <td>...</td>\n",
       "      <td>0.746982</td>\n",
       "      <td>0.588162</td>\n",
       "      <td>0.203452</td>\n",
       "      <td>0.662033</td>\n",
       "      <td>0.523288</td>\n",
       "    </tr>\n",
       "    <tr>\n",
       "      <th>4</th>\n",
       "      <td>0.266626</td>\n",
       "      <td>0.484640</td>\n",
       "      <td>0.430566</td>\n",
       "      <td>0.882055</td>\n",
       "      <td>0.785261</td>\n",
       "      <td>...</td>\n",
       "      <td>0.655115</td>\n",
       "      <td>0.442506</td>\n",
       "      <td>0.116492</td>\n",
       "      <td>0.861459</td>\n",
       "      <td>0.589859</td>\n",
       "    </tr>\n",
       "    <tr>\n",
       "      <th>5</th>\n",
       "      <td>0.695614</td>\n",
       "      <td>0.571977</td>\n",
       "      <td>0.633992</td>\n",
       "      <td>0.706400</td>\n",
       "      <td>0.355071</td>\n",
       "      <td>...</td>\n",
       "      <td>0.156109</td>\n",
       "      <td>0.222790</td>\n",
       "      <td>0.958219</td>\n",
       "      <td>0.484075</td>\n",
       "      <td>0.236766</td>\n",
       "    </tr>\n",
       "    <tr>\n",
       "      <th>6</th>\n",
       "      <td>0.313605</td>\n",
       "      <td>0.101705</td>\n",
       "      <td>0.080710</td>\n",
       "      <td>0.854698</td>\n",
       "      <td>0.220697</td>\n",
       "      <td>...</td>\n",
       "      <td>0.482442</td>\n",
       "      <td>0.171771</td>\n",
       "      <td>0.278977</td>\n",
       "      <td>0.321641</td>\n",
       "      <td>0.124504</td>\n",
       "    </tr>\n",
       "    <tr>\n",
       "      <th>7</th>\n",
       "      <td>0.700918</td>\n",
       "      <td>0.319251</td>\n",
       "      <td>0.173709</td>\n",
       "      <td>0.844428</td>\n",
       "      <td>0.992370</td>\n",
       "      <td>...</td>\n",
       "      <td>0.493461</td>\n",
       "      <td>0.930643</td>\n",
       "      <td>0.548558</td>\n",
       "      <td>0.948738</td>\n",
       "      <td>0.416265</td>\n",
       "    </tr>\n",
       "    <tr>\n",
       "      <th>8</th>\n",
       "      <td>0.670791</td>\n",
       "      <td>0.416993</td>\n",
       "      <td>0.405371</td>\n",
       "      <td>0.213854</td>\n",
       "      <td>0.712764</td>\n",
       "      <td>...</td>\n",
       "      <td>0.250209</td>\n",
       "      <td>0.956986</td>\n",
       "      <td>0.325717</td>\n",
       "      <td>0.696112</td>\n",
       "      <td>0.219828</td>\n",
       "    </tr>\n",
       "    <tr>\n",
       "      <th>9</th>\n",
       "      <td>0.064023</td>\n",
       "      <td>0.667027</td>\n",
       "      <td>0.198786</td>\n",
       "      <td>0.437727</td>\n",
       "      <td>0.811632</td>\n",
       "      <td>...</td>\n",
       "      <td>0.449985</td>\n",
       "      <td>0.016948</td>\n",
       "      <td>0.336893</td>\n",
       "      <td>0.156778</td>\n",
       "      <td>0.746549</td>\n",
       "    </tr>\n",
       "  </tbody>\n",
       "</table>\n",
       "<p>10 rows × 10000 columns</p>\n",
       "</div>"
      ],
      "text/plain": [
       "       0         1         2         3         4     ...      9995      9996      9997      9998      9999\n",
       "0  0.088470  0.594978  0.267262  0.521285  0.427390  ...  0.628226  0.491950  0.023748  0.910001  0.342909\n",
       "1  0.421657  0.024940  0.345641  0.285778  0.339881  ...  0.282903  0.818589  0.758343  0.068396  0.809684\n",
       "2  0.642708  0.101187  0.787579  0.822067  0.329221  ...  0.674419  0.082625  0.676742  0.711652  0.515747\n",
       "3  0.741156  0.563763  0.390991  0.809422  0.628270  ...  0.746982  0.588162  0.203452  0.662033  0.523288\n",
       "4  0.266626  0.484640  0.430566  0.882055  0.785261  ...  0.655115  0.442506  0.116492  0.861459  0.589859\n",
       "5  0.695614  0.571977  0.633992  0.706400  0.355071  ...  0.156109  0.222790  0.958219  0.484075  0.236766\n",
       "6  0.313605  0.101705  0.080710  0.854698  0.220697  ...  0.482442  0.171771  0.278977  0.321641  0.124504\n",
       "7  0.700918  0.319251  0.173709  0.844428  0.992370  ...  0.493461  0.930643  0.548558  0.948738  0.416265\n",
       "8  0.670791  0.416993  0.405371  0.213854  0.712764  ...  0.250209  0.956986  0.325717  0.696112  0.219828\n",
       "9  0.064023  0.667027  0.198786  0.437727  0.811632  ...  0.449985  0.016948  0.336893  0.156778  0.746549\n",
       "\n",
       "[10 rows x 10000 columns]"
      ]
     },
     "execution_count": 12,
     "metadata": {},
     "output_type": "execute_result"
    }
   ],
   "source": [
    "# creating new anndata object. This is identical to the base AnnData library.\n",
    "# the example below is from the Getting Started Tutorial for AnnData:\n",
    "\n",
    "# any given anndata object is created from constituent data arrays.\n",
    "\n",
    "\n",
    "# 1) Primary data matrix\n",
    "import numpy as np\n",
    "import pandas as pd\n",
    "\n",
    "n_rois, n_frames = 10, 10000\n",
    "X = np.random.random((n_rois, n_frames))  # create random data matrix\n",
    "\n",
    "df = pd.DataFrame(X, columns=range(n_frames), index=np.arange(n_rois, dtype=int).astype(str))\n",
    "df  # show the dataframe"
   ]
  },
  {
   "cell_type": "code",
   "execution_count": 13,
   "id": "fbd51db5",
   "metadata": {
    "pycharm": {
     "name": "#%%\n"
    }
   },
   "outputs": [
    {
     "data": {
      "text/html": [
       "<div>\n",
       "<style scoped>\n",
       "    .dataframe tbody tr th:only-of-type {\n",
       "        vertical-align: middle;\n",
       "    }\n",
       "\n",
       "    .dataframe tbody tr th {\n",
       "        vertical-align: top;\n",
       "    }\n",
       "\n",
       "    .dataframe thead th {\n",
       "        text-align: right;\n",
       "    }\n",
       "</style>\n",
       "<table border=\"1\" class=\"dataframe\">\n",
       "  <thead>\n",
       "    <tr style=\"text-align: right;\">\n",
       "      <th></th>\n",
       "      <th>cell_type</th>\n",
       "    </tr>\n",
       "  </thead>\n",
       "  <tbody>\n",
       "    <tr>\n",
       "      <th>0</th>\n",
       "      <td>exc</td>\n",
       "    </tr>\n",
       "    <tr>\n",
       "      <th>1</th>\n",
       "      <td>int</td>\n",
       "    </tr>\n",
       "    <tr>\n",
       "      <th>2</th>\n",
       "      <td>int</td>\n",
       "    </tr>\n",
       "    <tr>\n",
       "      <th>3</th>\n",
       "      <td>int</td>\n",
       "    </tr>\n",
       "    <tr>\n",
       "      <th>4</th>\n",
       "      <td>exc</td>\n",
       "    </tr>\n",
       "    <tr>\n",
       "      <th>5</th>\n",
       "      <td>exc</td>\n",
       "    </tr>\n",
       "    <tr>\n",
       "      <th>6</th>\n",
       "      <td>int</td>\n",
       "    </tr>\n",
       "    <tr>\n",
       "      <th>7</th>\n",
       "      <td>exc</td>\n",
       "    </tr>\n",
       "    <tr>\n",
       "      <th>8</th>\n",
       "      <td>exc</td>\n",
       "    </tr>\n",
       "    <tr>\n",
       "      <th>9</th>\n",
       "      <td>int</td>\n",
       "    </tr>\n",
       "  </tbody>\n",
       "</table>\n",
       "</div>"
      ],
      "text/plain": [
       "  cell_type\n",
       "0       exc\n",
       "1       int\n",
       "2       int\n",
       "3       int\n",
       "4       exc\n",
       "5       exc\n",
       "6       int\n",
       "7       exc\n",
       "8       exc\n",
       "9       int"
      ]
     },
     "execution_count": 13,
     "metadata": {},
     "output_type": "execute_result"
    }
   ],
   "source": [
    "#2) Observations matrix\n",
    "\n",
    "obs_meta = pd.DataFrame({\n",
    "    'cell_type': np.random.choice(['exc', 'int'], n_rois),\n",
    "},\n",
    "    index=np.arange(n_rois, dtype=int).astype(str),    # these are the same IDs of observations as above!\n",
    ")\n",
    "obs_meta\n"
   ]
  },
  {
   "cell_type": "code",
   "execution_count": 14,
   "id": "dafd14b8",
   "metadata": {
    "pycharm": {
     "name": "#%%\n"
    }
   },
   "outputs": [
    {
     "data": {
      "text/html": [
       "<div>\n",
       "<style scoped>\n",
       "    .dataframe tbody tr th:only-of-type {\n",
       "        vertical-align: middle;\n",
       "    }\n",
       "\n",
       "    .dataframe tbody tr th {\n",
       "        vertical-align: top;\n",
       "    }\n",
       "\n",
       "    .dataframe thead th {\n",
       "        text-align: right;\n",
       "    }\n",
       "</style>\n",
       "<table border=\"1\" class=\"dataframe\">\n",
       "  <thead>\n",
       "    <tr style=\"text-align: right;\">\n",
       "      <th></th>\n",
       "      <th>exp_group</th>\n",
       "    </tr>\n",
       "  </thead>\n",
       "  <tbody>\n",
       "    <tr>\n",
       "      <th>0</th>\n",
       "      <td>C</td>\n",
       "    </tr>\n",
       "    <tr>\n",
       "      <th>1</th>\n",
       "      <td>B</td>\n",
       "    </tr>\n",
       "    <tr>\n",
       "      <th>2</th>\n",
       "      <td>B</td>\n",
       "    </tr>\n",
       "    <tr>\n",
       "      <th>3</th>\n",
       "      <td>A</td>\n",
       "    </tr>\n",
       "    <tr>\n",
       "      <th>4</th>\n",
       "      <td>A</td>\n",
       "    </tr>\n",
       "    <tr>\n",
       "      <th>...</th>\n",
       "      <td>...</td>\n",
       "    </tr>\n",
       "    <tr>\n",
       "      <th>9995</th>\n",
       "      <td>A</td>\n",
       "    </tr>\n",
       "    <tr>\n",
       "      <th>9996</th>\n",
       "      <td>B</td>\n",
       "    </tr>\n",
       "    <tr>\n",
       "      <th>9997</th>\n",
       "      <td>B</td>\n",
       "    </tr>\n",
       "    <tr>\n",
       "      <th>9998</th>\n",
       "      <td>B</td>\n",
       "    </tr>\n",
       "    <tr>\n",
       "      <th>9999</th>\n",
       "      <td>C</td>\n",
       "    </tr>\n",
       "  </tbody>\n",
       "</table>\n",
       "<p>10000 rows × 1 columns</p>\n",
       "</div>"
      ],
      "text/plain": [
       "     exp_group\n",
       "0            C\n",
       "1            B\n",
       "2            B\n",
       "3            A\n",
       "4            A\n",
       "...        ...\n",
       "9995         A\n",
       "9996         B\n",
       "9997         B\n",
       "9998         B\n",
       "9999         C\n",
       "\n",
       "[10000 rows x 1 columns]"
      ]
     },
     "execution_count": 14,
     "metadata": {},
     "output_type": "execute_result"
    }
   ],
   "source": [
    "#3) Variables matrix\n",
    "\n",
    "\n",
    "var_meta = pd.DataFrame({\n",
    "    'exp_group': np.random.choice(['A','B', 'C'], n_frames),\n",
    "},\n",
    "    index=np.arange(n_frames, dtype=int).astype(str),    # these are the same IDs of observations as above!\n",
    ")\n",
    "var_meta\n"
   ]
  },
  {
   "cell_type": "code",
   "execution_count": 15,
   "id": "72493fce",
   "metadata": {
    "pycharm": {
     "name": "#%%\n"
    }
   },
   "outputs": [
    {
     "name": "stdout",
     "output_type": "stream",
     "text": [
      "Created AnnData object: \n",
      "\tAnnotated Data of n_obs (# ROIs) × n_vars (# Frames) = 10 × 10000\n",
      "Annotated Data of n_obs × n_vars = 10 × 10000 \n",
      "available attributes: \n",
      "\t.X (primary datamatrix)\n",
      "\t.obs (obs metadata): \n",
      "\t\t|- 'cell_type'\n",
      "\t.var (vars metadata): \n",
      "\t\t|- 'exp_group'\n"
     ]
    }
   ],
   "source": [
    "#4) Creating a new anndata attribute for the trialobj\n",
    "\n",
    "import imagingplus.processing.anndata as ad  # from the processing module, import anndata submodule\n",
    "\n",
    "trialobj.new_anndata = ad.AnnotatedData(X=df,obs=obs_meta, var=var_meta)\n",
    "\n",
    "print(trialobj.new_anndata)"
   ]
  },
  {
   "cell_type": "code",
   "execution_count": 16,
   "id": "db6d43e0",
   "metadata": {
    "pycharm": {
     "name": "#%%\n"
    }
   },
   "outputs": [
    {
     "name": "stdout",
     "output_type": "stream",
     "text": [
      "Annotated Data of n_obs × n_vars = 10 × 10000 \n",
      "available attributes: \n",
      "\t.X (primary datamatrix)\n",
      "\t.obs (obs metadata): \n",
      "\t\t|- 'cell_type', 'cell_loc_x', 'cell_loc_y'\n",
      "\t.var (vars metadata): \n",
      "\t\t|- 'exp_group'\n"
     ]
    }
   ],
   "source": [
    "# adding an 'obs' to existing anndata object\n",
    "\n",
    "new_obs = pd.DataFrame({\n",
    "    'cell_loc_x': np.random.random_integers(0, 512, n_rois),\n",
    "    'cell_loc_y': np.random.random_integers(0, 512, n_rois),\n",
    "},\n",
    "    index=np.arange(n_rois, dtype=int).astype(str),    # these are the same IDs of observations as above!\n",
    ")\n",
    "\n",
    "cell_loc_x = np.random.random_integers(0, 512, n_rois)\n",
    "cell_loc_y = np.random.random_integers(0, 512, n_rois)\n",
    "\n",
    "\n",
    "trialobj.new_anndata.add_obs(obs_name='cell_loc_x', values=cell_loc_x)\n",
    "trialobj.new_anndata.add_obs(obs_name='cell_loc_y', values=cell_loc_y)\n",
    "\n",
    "print(trialobj.new_anndata)\n",
    "\n"
   ]
  },
  {
   "cell_type": "code",
   "execution_count": 17,
   "id": "44199fb5",
   "metadata": {
    "pycharm": {
     "name": "#%%\n"
    }
   },
   "outputs": [
    {
     "name": "stdout",
     "output_type": "stream",
     "text": [
      "Annotated Data of n_obs × n_vars = 10 × 10000 \n",
      "available attributes: \n",
      "\t.X (primary datamatrix)\n",
      "\t.obs (obs metadata): \n",
      "\t\t|- 'cell_loc_x', 'cell_loc_y'\n",
      "\t.var (vars metadata): \n",
      "\t\t|- 'exp_group'\n"
     ]
    }
   ],
   "source": [
    "# deleting an 'obs' to existing anndata object\n",
    "# uses the pop method\n",
    "\n",
    "trialobj.new_anndata.del_obs('cell_type')\n",
    "print(trialobj.new_anndata)"
   ]
  },
  {
   "cell_type": "markdown",
   "id": "bfa7f315",
   "metadata": {},
   "source": [
    "*Note: adding and deleting an 'var' to existing anndata object can be done in the exact same manner as demonstrated above for 'obs' using .add_var() and .del_var() methods on an anndata object.*"
   ]
  }
 ],
 "metadata": {
  "kernelspec": {
   "display_name": "Python 3 (ipykernel)",
   "language": "python",
   "name": "python3"
  },
  "language_info": {
   "codemirror_mode": {
    "name": "ipython",
    "version": 3
   },
   "file_extension": ".py",
   "mimetype": "text/x-python",
   "name": "python",
   "nbconvert_exporter": "python",
   "pygments_lexer": "ipython3",
   "version": "3.9.7"
  }
 },
 "nbformat": 4,
 "nbformat_minor": 5
}
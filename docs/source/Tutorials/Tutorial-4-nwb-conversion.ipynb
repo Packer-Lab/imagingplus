{
 "cells": [
  {
   "cell_type": "markdown",
   "metadata": {
    "collapsed": true,
    "pycharm": {
     "name": "#%% md\n"
    }
   },
   "source": [
    "### Tutorial 4 - NWB Conversion"
   ]
  },
  {
   "cell_type": "markdown",
   "source": [
    "Neurodata without borders (NWB) is the data standard that we employ for data storage, packaging and sharing. More information about the NWB project can be found here: https://pynwb.readthedocs.io/en/stable/index.html"
   ],
   "metadata": {
    "collapsed": false,
    "pycharm": {
     "name": "#%% md\n"
    }
   }
  },
  {
   "cell_type": "markdown",
   "source": [
    "We have created some basic functionality to package and store imaging+ data into NWB files.\n",
    "\n",
    "When generated here, the NWB files will automatically store:\n",
    "- Raw imaging data\n",
    "- Imaging microscope parameters\n",
    "- Time series data channels\n",
    "- ROIs and their extracted raw Flu array (if available for imaging+ trial)\n",
    "\n",
    "These NWB files can be further modified according to NWB specifications and methods. Please refer to the PyNWB documentation for further additions according to your needs.\n"
   ],
   "metadata": {
    "collapsed": false,
    "pycharm": {
     "name": "#%% md\n"
    }
   }
  },
  {
   "cell_type": "markdown",
   "source": [
    "Below, we demonstrate how to generate a NWB file from an existing `imaging+` data object. Note that one .nwb file is created for one imaging trial."
   ],
   "metadata": {
    "collapsed": false,
    "pycharm": {
     "name": "#%% md\n"
    }
   }
  },
  {
   "cell_type": "code",
   "execution_count": null,
   "outputs": [],
   "source": [
    "# import necessary modules\n",
    "from pynwb.file import Subject\n",
    "from imagingplus.utils.io import import_obj\n",
    "from imagingplus.utils import nwb"
   ],
   "metadata": {
    "collapsed": false,
    "pycharm": {
     "name": "#%%\n"
    }
   }
  },
  {
   "cell_type": "code",
   "execution_count": null,
   "outputs": [],
   "source": [
    "# setup a Subject corresponding to the imaging trial\n",
    "subject = Subject(age='P60D', subject_id='HF113',\n",
    "                  genotype='CamkIIa-GCaMP6s/Niell'\n",
    "                  )\n",
    "\n",
    "# load up imaging trial\n",
    "expobj = import_obj(pkl_path='/mnt/qnap_share/Data/imagingplus-example/imagingplus-test-analysis/HF113_analysis.pkl')\n",
    "trialobj = expobj.load_trial(expobj.trialIDs[0])\n",
    "\n",
    "\n",
    "# set some additional metadata required for generating NWB files.\n",
    "expobj.experimenter = 'P. Shah'\n",
    "expobj.lab = 'Packer Lab'\n",
    "expobj.institution = 'University of Oxford'\n",
    "trialobj.optical_channel_name = 'GCaMP imaging channel'\n"
   ],
   "metadata": {
    "collapsed": false,
    "pycharm": {
     "name": "#%%\n"
    }
   }
  },
  {
   "cell_type": "code",
   "execution_count": null,
   "outputs": [],
   "source": [
    "# create the nwb file\n",
    "inwb = nwb.ImagingNWB(expobj=expobj, nwb_subject=subject, trialobj=trialobj, save=True, add_raw_tiff=True, indicator='GCaMP6s')\n",
    "\n",
    "# options: set `add_raw_tiff` = False to skip adding the raw imaging tiffstack to the new NWB file.\n",
    "# options: set `save` = False to skip saving the new NWB file."
   ],
   "metadata": {
    "collapsed": false,
    "pycharm": {
     "name": "#%%\n"
    }
   }
  },
  {
   "cell_type": "markdown",
   "source": [
    "The NWB file will be saved by default in the same location as the `imaging+` analysis object."
   ],
   "metadata": {
    "collapsed": false,
    "pycharm": {
     "name": "#%% md\n"
    }
   }
  },
  {
   "cell_type": "code",
   "execution_count": null,
   "outputs": [],
   "source": [
    "# to save NWB file, optionally provide a filepath to save NWB file under.\n",
    "save_path = 'path/to/save/nwbfile.nwb'\n",
    "nwb.save(nwbfile=inwb, path=save_path)"
   ],
   "metadata": {
    "collapsed": false,
    "pycharm": {
     "name": "#%%\n"
    }
   }
  },
  {
   "cell_type": "markdown",
   "source": [
    "To read in a previously collected NWB file, use the `readImagingNWB()` function from the `nwb` module."
   ],
   "metadata": {
    "collapsed": false,
    "pycharm": {
     "name": "#%% md\n"
    }
   }
  },
  {
   "cell_type": "code",
   "execution_count": null,
   "outputs": [],
   "source": [
    "nwbfilepath = '/mnt/qnap_share/Data/imagingplus-example/imagingplus-test-analysis/2021-01-31_t-001.nwb'\n",
    "\n",
    "enwb = nwb.readImagingNWB(filename=nwbfilepath)\n",
    "\n",
    "print(enwb)"
   ],
   "metadata": {
    "collapsed": false,
    "pycharm": {
     "name": "#%%\n"
    }
   }
  }
 ],
 "metadata": {
  "kernelspec": {
   "display_name": "Python 3",
   "language": "python",
   "name": "python3"
  },
  "language_info": {
   "codemirror_mode": {
    "name": "ipython",
    "version": 2
   },
   "file_extension": ".py",
   "mimetype": "text/x-python",
   "name": "python",
   "nbconvert_exporter": "python",
   "pygments_lexer": "ipython2",
   "version": "2.7.6"
  }
 },
 "nbformat": 4,
 "nbformat_minor": 0
}
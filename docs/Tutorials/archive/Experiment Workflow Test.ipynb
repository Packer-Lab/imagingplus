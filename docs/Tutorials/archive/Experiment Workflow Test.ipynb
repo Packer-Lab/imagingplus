{
 "cells": [
  {
   "cell_type": "code",
   "execution_count": 1,
   "id": "0ea26bdc",
   "metadata": {
    "scrolled": true,
    "trusted": false
   },
   "outputs": [
    {
     "name": "stdout",
     "output_type": "stream",
     "text": "Warning: cellpose did not import\nNo module named 'cellpose'\ncannot use anatomical mode, but otherwise suite2p will run normally\n"
    }
   ],
   "source": "import packerlabimaging.imaging_utils as pkgb"
  },
  {
   "cell_type": "code",
   "execution_count": 2,
   "id": "9c970fed",
   "metadata": {
    "trusted": false
   },
   "outputs": [],
   "source": "# experiment initialization dictionary\n\ninitialization_dict = {\n    'dataPath': '/home/pshah/mnt/qnap/Data/2020-12-19',\n    'analysisSavePath': '/home/pshah/Documents/code/packerlabimaging/tests/',\n    'microscope': \"Bruker\",\n    \"expID\": 'RL109',\n    'date': '2020-12-19',\n    'comments': '',\n    'trialsInformation': {},\n    'useSuite2p': True\n}\n\n\ntrials_list_spont = ['t-005', 't-006']\nfor idx, trial in enumerate(trials_list_spont):\n    data_path_base = '/home/pshah/mnt/qnap/Data/2020-12-19'\n    animal_prep = initialization_dict['expID']\n    date = data_path_base[-10:]\n\n    ## everything below should autopopulate and run automatically\n    paqs_loc = '%s/%s_%s_%s.paq' % (data_path_base, date, animal_prep, trial[2:])  # path to the .paq files for the selected trials\n    tiffs_loc = f'{data_path_base}/{date}_{trial}/{date}_{trial}_Cycle00001_Ch3.tif'\n\n\n    initialization_dict[\"trialsInformation\"][trial] = {'trialType': 'TwoPhotonImagingTrial',\n                                        's2p_use': True,\n                                        'tiff_path': f\"{tiffs_loc}\",\n                                        'expGroup': \"pre 4ap 2p spont imaging\",\n                                        'paq_path': paqs_loc,\n                                                        }\n\ntrials_list_alloptical = ['t-013']\nnaparms_list = {'t-013': '/home/pshah/mnt/qnap/Data/2020-12-19/photostim/2020-12-19_RL109_ps_014/'}\nfor idx, trial in enumerate(trials_list_alloptical):\n    data_path_base = '/home/pshah/mnt/qnap/Data/2020-12-19'\n    animal_prep = initialization_dict['expID']\n    date = data_path_base[-10:]\n\n    ## everything below should autopopulate and run automatically\n    paqs_loc = '%s/%s_%s_%s.paq' % (data_path_base, date, animal_prep, trial[2:])  # path to the .paq files for the selected trials\n    tiffs_loc = f'{data_path_base}/{date}_{trial}/{date}_{trial}_Cycle00001_Ch3.tif'\n\n\n    initialization_dict[\"trialsInformation\"][trial] = {'trialType': 'AllOpticalTrial',\n                                        'tiff_path': f\"{tiffs_loc}\",\n                                        's2p_use': True,\n                                        'expGroup': \"pre 4ap 2p all optical\",\n                                        'paq_path': paqs_loc,\n                                        'naparm_path': naparms_list[trial]\n                                                        }\n"
  },
  {
   "cell_type": "code",
   "execution_count": 3,
   "id": "96aa0faf",
   "metadata": {
    "trusted": false
   },
   "outputs": [
    {
     "data": {
      "text/plain": "{'t-005': {'trialType': 'TwoPhotonImagingTrial',\n  's2p_use': True,\n  'tiff_path': '/home/pshah/mnt/qnap/Data/2020-12-19/2020-12-19_t-005/2020-12-19_t-005_Cycle00001_Ch3.tif',\n  'expGroup': 'pre 4ap 2p spont imaging',\n  'paq_path': '/home/pshah/mnt/qnap/Data/2020-12-19/2020-12-19_RL109_005.paq'},\n 't-006': {'trialType': 'TwoPhotonImagingTrial',\n  's2p_use': True,\n  'tiff_path': '/home/pshah/mnt/qnap/Data/2020-12-19/2020-12-19_t-006/2020-12-19_t-006_Cycle00001_Ch3.tif',\n  'expGroup': 'pre 4ap 2p spont imaging',\n  'paq_path': '/home/pshah/mnt/qnap/Data/2020-12-19/2020-12-19_RL109_006.paq'},\n 't-013': {'trialType': 'AllOpticalTrial',\n  'tiff_path': '/home/pshah/mnt/qnap/Data/2020-12-19/2020-12-19_t-013/2020-12-19_t-013_Cycle00001_Ch3.tif',\n  's2p_use': True,\n  'expGroup': 'pre 4ap 2p all optical',\n  'paq_path': '/home/pshah/mnt/qnap/Data/2020-12-19/2020-12-19_RL109_013.paq',\n  'naparm_path': '/home/pshah/mnt/qnap/Data/2020-12-19/photostim/2020-12-19_RL109_ps_014/'}}"
     },
     "execution_count": 3,
     "metadata": {},
     "output_type": "execute_result"
    }
   ],
   "source": "initialization_dict[\"trialsInformation\"]"
  },
  {
   "cell_type": "code",
   "execution_count": 4,
   "id": "63a1b74d",
   "metadata": {
    "pycharm": {
     "name": "#%%\n"
    },
    "trusted": false
   },
   "outputs": [
    {
     "name": "stdout",
     "output_type": "stream",
     "text": "CREATING new Experiment: \n\tExperiment object (date: 2020-12-19, expID: RL109)\n\\- ADDING Suite2p class to Experiment object ... \n\n\n\\- PROCESSING trial: t-005, expID: (RL109)\n\\----- CREATING TwoPhotonImagingTrial for trial: t-005,  RL109 t-005\nsaving new trial object to: /home/pshah/Documents/code/packerlabimaging/tests/2020-12-19_t-005.pkl\n\n\t -- data object saved to /home/pshah/Documents/code/packerlabimaging/tests/2020-12-19_t-005.pkl -- \n\n\\----- Parsing PV Metadata for Bruker microscope...\n\tn planes: 1 \n\tn frames: 14880 \n\tfps: 30.19250925053195 \n\tframe size (px): 512 x 512 \n\tzoom: 1.0 \n\tpixel size (um): 2.18458479264539 2.18458479264539 \n\tscan centre (V): 0.0 0.0\n\n\\----- Processing paq file ...\n\tloading paq data from: /home/pshah/mnt/qnap/Data/2020-12-19/2020-12-19_RL109_005.paq\n\t|- loaded 8 channels from .paq file: ['frame_clock', 'x_galvo_uncaging', 'slm2packio', 'markpoints2packio', 'packio2slm', 'packio2markpoints', 'pycontrol_rsync', 'voltage']\n\n\t -- data object saved to /home/pshah/Documents/code/packerlabimaging/tests/2020-12-19_t-005.pkl -- \n\n\\----- ADDING Suite2p class to Trial object ... \n\n\n\\- PROCESSING trial: t-006, expID: (RL109)\n\\----- CREATING TwoPhotonImagingTrial for trial: t-006,  RL109 t-006\nsaving new trial object to: /home/pshah/Documents/code/packerlabimaging/tests/2020-12-19_t-006.pkl\n\n\t -- data object saved to /home/pshah/Documents/code/packerlabimaging/tests/2020-12-19_t-006.pkl -- \n\n\\----- Parsing PV Metadata for Bruker microscope...\n\tn planes: 1 \n\tn frames: 23173 \n\tfps: 30.19176814799256 \n\tframe size (px): 512 x 512 \n\tzoom: 1.0 \n\tpixel size (um): 2.18458479264539 2.18458479264539 \n\tscan centre (V): 0.0 0.0\n\n\\----- Processing paq file ...\n\tloading paq data from: /home/pshah/mnt/qnap/Data/2020-12-19/2020-12-19_RL109_006.paq\n\t|- loaded 8 channels from .paq file: ['frame_clock', 'x_galvo_uncaging', 'slm2packio', 'markpoints2packio', 'packio2slm', 'packio2markpoints', 'pycontrol_rsync', 'voltage']\n\n\t -- data object saved to /home/pshah/Documents/code/packerlabimaging/tests/2020-12-19_t-006.pkl -- \n\n\\----- ADDING Suite2p class to Trial object ... \n\n\n\\- PROCESSING trial: t-013, expID: (RL109)\n\\----- CREATING AllOpticalTrial data object for RL109 t-013\n\\----- CREATING TwoPhotonImagingTrial for trial: t-013,  RL109 t-013\nsaving new trial object to: /home/pshah/Documents/code/packerlabimaging/tests/2020-12-19_t-013.pkl\n\n\t -- data object saved to /home/pshah/Documents/code/packerlabimaging/tests/2020-12-19_t-013.pkl -- \n\n\\----- Parsing PV Metadata for Bruker microscope...\n\tn planes: 1 \n\tn frames: 16368 \n\tfps: 30.189722784380017 \n\tframe size (px): 512 x 512 \n\tzoom: 1.0 \n\tpixel size (um): 2.18458479264539 2.18458479264539 \n\tscan centre (V): 0.0 0.0\n\n\\----- Processing paq file ...\n\tloading paq data from: /home/pshah/mnt/qnap/Data/2020-12-19/2020-12-19_RL109_013.paq\n\t|- loaded 8 channels from .paq file: ['frame_clock', 'x_galvo_uncaging', 'slm2packio', 'markpoints2packio', 'packio2slm', 'packio2markpoints', 'pycontrol_rsync', 'voltage']\n\n\t -- data object saved to /home/pshah/Documents/code/packerlabimaging/tests/2020-12-19_t-013.pkl -- \n\n\\----- parsing Naparm xml file...\nloading NAPARM_xml_path:\n['/home/pshah/mnt/qnap/Data/2020-12-19/photostim/2020-12-19_RL109_ps_014/2020-12-19_RL109_ps_014.xml']\n\tNumbers of trials: 100 \n\tNumber of groups: 4 \n\tNumber of shots: 10 \n\tNumber of sequence reps: 1 \n\tInter-point delay: 5 \n\tSpiral Duration (ms): 20\n\n\\----- parsing Naparm gpl file...\n['/home/pshah/mnt/qnap/Data/2020-12-19/photostim/2020-12-19_RL109_ps_014/2020-12-19_RL109_ps_014.gpl']\nloading NAPARM_gpl_path:  /home/pshah/mnt/qnap/Data/2020-12-19/photostim/2020-12-19_RL109_ps_014/2020-12-19_RL109_ps_014.gpl\nSingle stim dur (ms): 10\nSpiral size .gpl file: 0.047535\nspiral size (um): 10\nSingle stim. Duration (ms):  20\nTotal stim. Duration per trial (ms):  1000\n\n\\----- processing paq file...\n\tloading paq data from: /home/pshah/mnt/qnap/Data/2020-12-19/2020-12-19_RL109_013.paq\n\t|- loaded 8 channels from .paq file: ['frame_clock', 'x_galvo_uncaging', 'slm2packio', 'markpoints2packio', 'packio2slm', 'packio2markpoints', 'pycontrol_rsync', 'voltage']\n# of stims found on markpoints2packio: 100\n\n\t\\-----Loading up target coordinates...\n\tNumber of targets: 36\n\tspiral size: 10.0um\n\tpix sz x: 2.18458479264539um\n\tradius (in pixels): 6.55px\n\tradius of target exclusion zone (in pixels): 8.74px\n\tNumber of targets (in SLM group 1):  9\n\tNumber of targets (in SLM group 2):  9\n\tNumber of targets (in SLM group 3):  9\n\tNumber of targets (in SLM group 4):  9\n\n\\-----Finding photostimulation frames in imaging frames ...\n# of photostim frames calculated per stim. trial:  32\n\t|- Original # of frames: 16368 frames\n\t|- # of Photostim frames: 3200 frames\n\t|- Minus photostim. frames total: 13168 frames\n***Saving a total of 3200 photostim frames to bad_frames.npy at: /home/pshah/mnt/qnap/Data/2020-12-19/2020-12-19_t-013/bad_frames.npy\n\n\t -- data object saved to /home/pshah/Documents/code/packerlabimaging/tests/2020-12-19_t-013.pkl -- \n\n\\----- ADDING Suite2p class to Trial object ... \n\nsaving new pkl object at: /home/pshah/Documents/code/packerlabimaging/tests/RL109_analysis.pkl\n\t -- Experiment analysis object saved to /home/pshah/Documents/code/packerlabimaging/tests/RL109_analysis.pkl -- \n\n\n\n NEW Experiment object created: \nExperiment object (last saved: Thu Jan 13 18:24:05 2022), date: 2020-12-19, expID: RL109, microscope: Bruker\npkl path: /home/pshah/Documents/code/packerlabimaging/tests/RL109_analysis.pkl\ntrials in Experiment object:\n\tt-005: TwoPhotonImagingTrial, pre 4ap 2p spont imaging\n\tt-006: TwoPhotonImagingTrial, pre 4ap 2p spont imaging\n\tt-013: AllOpticalTrial, pre 4ap 2p all optical\n"
    }
   ],
   "source": "expobj = pkg.Experiment(**initialization_dict)"
  },
  {
   "cell_type": "code",
   "execution_count": 5,
   "id": "e7cd4cc4",
   "metadata": {
    "pycharm": {
     "name": "#%%\n"
    },
    "trusted": false
   },
   "outputs": [
    {
     "name": "stdout",
     "output_type": "stream",
     "text": "|- Loaded Experiment object (date: 2020-12-19, expID: RL109)/RL109_analysis.pkl ... \n"
    }
   ],
   "source": "expobj = pkg.import_obj(pkl_path='/home/pshah/Documents/code/packerlabimaging/tests/RL109_analysis.pkl')"
  },
  {
   "cell_type": "code",
   "execution_count": 6,
   "id": "2194f38c",
   "metadata": {
    "trusted": false
   },
   "outputs": [
    {
     "data": {
      "text/plain": "Experiment object (date: 2020-12-19, expID: RL109)"
     },
     "execution_count": 6,
     "metadata": {},
     "output_type": "execute_result"
    }
   ],
   "source": "expobj"
  },
  {
   "cell_type": "code",
   "execution_count": 7,
   "id": "b2963881",
   "metadata": {
    "scrolled": true,
    "trusted": false
   },
   "outputs": [
    {
     "data": {
      "text/plain": "{'t-005': {'trialType': 'TwoPhotonImagingTrial',\n  's2p_use': True,\n  'tiff_path': '/home/pshah/mnt/qnap/Data/2020-12-19/2020-12-19_t-005/2020-12-19_t-005_Cycle00001_Ch3.tif',\n  'expGroup': 'pre 4ap 2p spont imaging',\n  'paq_path': '/home/pshah/mnt/qnap/Data/2020-12-19/2020-12-19_RL109_005.paq',\n  'analysis Object Information': {'series ID': 'RL109 t-005',\n   'repr': \"'(uninitialized) TwoPhotonImagingTrial experimental data object, last saved: Thu Jan 13 18:23:55 2022'\",\n   'pkl path': '/home/pshah/Documents/code/packerlabimaging/tests/2020-12-19_t-005.pkl'}},\n 't-006': {'trialType': 'TwoPhotonImagingTrial',\n  's2p_use': True,\n  'tiff_path': '/home/pshah/mnt/qnap/Data/2020-12-19/2020-12-19_t-006/2020-12-19_t-006_Cycle00001_Ch3.tif',\n  'expGroup': 'pre 4ap 2p spont imaging',\n  'paq_path': '/home/pshah/mnt/qnap/Data/2020-12-19/2020-12-19_RL109_006.paq',\n  'analysis Object Information': {'series ID': 'RL109 t-006',\n   'repr': \"'(uninitialized) TwoPhotonImagingTrial experimental data object, last saved: Thu Jan 13 18:24:00 2022'\",\n   'pkl path': '/home/pshah/Documents/code/packerlabimaging/tests/2020-12-19_t-006.pkl'}},\n 't-013': {'trialType': 'AllOpticalTrial',\n  'tiff_path': '/home/pshah/mnt/qnap/Data/2020-12-19/2020-12-19_t-013/2020-12-19_t-013_Cycle00001_Ch3.tif',\n  's2p_use': True,\n  'expGroup': 'pre 4ap 2p all optical',\n  'paq_path': '/home/pshah/mnt/qnap/Data/2020-12-19/2020-12-19_RL109_013.paq',\n  'naparm_path': '/home/pshah/mnt/qnap/Data/2020-12-19/photostim/2020-12-19_RL109_ps_014/',\n  'analysis Object Information': {'series ID': 'RL109 t-013',\n   'repr': \"'(uninitialized) TwoPhotonImagingTrial.alloptical experimental data object, last saved: Thu Jan 13 18:24:05 2022'\",\n   'pkl path': '/home/pshah/Documents/code/packerlabimaging/tests/2020-12-19_t-013.pkl'}}}"
     },
     "execution_count": 7,
     "metadata": {},
     "output_type": "execute_result"
    }
   ],
   "source": "expobj.trialsInformation"
  },
  {
   "cell_type": "code",
   "execution_count": 8,
   "id": "96e11d04",
   "metadata": {
    "pycharm": {
     "name": "#%%\n"
    },
    "trusted": false
   },
   "outputs": [
    {
     "name": "stdout",
     "output_type": "stream",
     "text": "Experiment object (last saved: Thu Jan 13 18:24:05 2022), date: 2020-12-19, expID: RL109, microscope: Bruker\npkl path: /home/pshah/Documents/code/packerlabimaging/tests/RL109_analysis.pkl\ntrials in Experiment object:\n\tt-005: TwoPhotonImagingTrial, pre 4ap 2p spont imaging\n\tt-006: TwoPhotonImagingTrial, pre 4ap 2p spont imaging\n\tt-013: AllOpticalTrial, pre 4ap 2p all optical\n"
    }
   ],
   "source": "print(expobj)"
  },
  {
   "cell_type": "code",
   "execution_count": 8,
   "id": "08551329",
   "metadata": {
    "pycharm": {
     "name": "#%%\n"
    },
    "trusted": false
   },
   "outputs": [],
   "source": ""
  }
 ],
 "metadata": {
  "kernelspec": {
   "display_name": "Python 3 (ipykernel)",
   "language": "python",
   "name": "python3"
  },
  "language_info": {
   "codemirror_mode": {
    "name": "ipython",
    "version": 3
   },
   "file_extension": ".py",
   "mimetype": "text/x-python",
   "name": "python",
   "nbconvert_exporter": "python",
   "pygments_lexer": "ipython3",
   "version": "3.9.7"
  }
 },
 "nbformat": 4,
 "nbformat_minor": 5
}
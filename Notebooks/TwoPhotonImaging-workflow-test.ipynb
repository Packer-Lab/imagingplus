{
 "cells": [
  {
   "cell_type": "code",
   "execution_count": 1,
   "metadata": {},
   "outputs": [],
   "source": [
    "from packerlabimaging.imaging_utils import *"
   ]
  },
  {
   "cell_type": "code",
   "execution_count": null,
   "metadata": {},
   "outputs": [],
   "source": [
    "# Step #1) in all optical experiment analysis - preprocessing the data to prep for suite2p analysis and creating some starter experiment objects\n",
    "\n",
    "\n",
    "# 1) ### prepare trial and photostim experiment information below before running run_photostim_processing()\n",
    "data_path_base = '/home/pshah/mnt/qnap/Data/2020-12-19'\n",
    "animal_prep = 'RL109'\n",
    "# date = '2021-02-02'\n",
    "date = data_path_base[-10:]\n",
    "# specify location of the naparm export for the trial(s) - ensure that this export was used for all trials, if # of trials > 1\n",
    "# paqs_loc = '%s/%s_RL109_%s.paq' % (data_path_base, date, trial[2:])  # path to the .paq files for the selected trials\n",
    "\n",
    "# need to update these 4 things for every trial\n",
    "trial = 't-013'  # note that %s magic command in the code below will be using these trials listed here\n",
    "comments = 'photostim: 9 cells x 4 groups; 5mW per cell; preset: 2020-11-25_PS_250ms-stim-50hz (approach #1); same targets and protocol as t011 but random vs ekmeans group assignment'\n",
    "naparms_loc = '/photostim/2020-12-19_RL109_ps_014/'  # make sure to include '/' at the end to indicate the child directory\n",
    "exp_type = 'pre 4ap 2p all optical'  # use 'post' and '4ap' in the description to create the appropriate run_post4ap_trials exp object\n",
    "analysis_save_path = '/home/pshah/mnt/qnap/Analysis/%s/%s/' % (date, animal_prep)\n",
    "\n",
    "pre4ap_trials = ['']  # add all optical t-series from pre4ap_trials\n",
    "post4ap_trials = ['']  # add all optical t-series from post4ap_trials\n",
    "\n",
    "\n",
    "# paqs_loc = '%s/%s_RL111_%s.paq' % (data_path_base, date, '008')  # path to the .paq files for the selected trials\n",
    "######\n",
    "\n",
    "## everything below should autopopulate and run automatically\n",
    "paqs_loc = '%s/%s_%s_%s.paq' % (data_path_base, date, animal_prep, trial[2:])  # path to the .paq files for the selected trials\n",
    "analysis_save_path = analysis_save_path + tiffs_loc_dir[-16:]\n",
    "tiffs_loc = '%s/%s_%s_Cycle00001_Ch3.tif' % (tiffs_loc_dir, date, trial)\n",
    "# pkl_path = \"%s/%s_%s.pkl\" % (analysis_save_path, date, trial)  # specify path in Analysis folder to save pkl object\n",
    "# paqs_loc = '%s/%s_RL109_010.paq' % (data_path_base, date)  # path to the .paq files for the selected trials\n",
    "new_tiffs = tiffs_loc[:-19]  # where new tiffs from rm_artifacts_tiffs will be saved\n",
    "# make the necessary Analysis saving subfolder as well\n",
    "# analysis_save_path = tiffs_loc[:21] + 'Analysis/' + tiffs_loc_dir[26:]\n",
    "\n",
    "if 'post' in exp_type and 'no seizure' not in comments:\n",
    "    matlab_pairedmeasurements_path = '%s/%s/paired_measurements/%s_%s_%s.mat' % (analysis_save_path[:-22], animal_prep, date, animal_prep, trial[2:])  # choose matlab path if need to use or use None for no additional bad frames\n",
    "else:\n",
    "    matlab_pairedmeasurements_path = None\n",
    "\n",
    "\n",
    "metainfo = {\n",
    "    'animal prep.': animal_prep,\n",
    "    'trial': trial,\n",
    "    'date': date,\n",
    "    'exptype': exp_type,\n",
    "    'data_path_base': data_path_base,\n",
    "    'comments': comments,\n",
    "    'pre4ap_trials': pre4ap_trials,\n",
    "    'post4ap_trials': post4ap_trials\n",
    "}\n",
    "\n",
    "\n",
    "tiff_path = '/home/pshah/mnt/qnap/Data/2020-01-17/2020-01-17_DO018_t-001/2020-01-17_DO018_t-001_Cycle00001_Ch3.tif'\n",
    "\n",
    "save_path = 'home/pshah/Documents/code/packerlabimaging/tests/'\n",
    "\n",
    "expobj = TwoPhotonImaging(tiff_path=tiff_path, exp_metainfo=metainfo, pkl_path: str,\n",
    "                 paq_path: str = None, suite2p_path: str = None, make_downsampled_tiff: bool = False)"
   ]
  }
 ],
 "metadata": {
  "kernelspec": {
   "display_name": "Python 3",
   "language": "python",
   "name": "python3"
  },
  "language_info": {
   "codemirror_mode": {
    "name": "ipython",
    "version": 3
   },
   "file_extension": ".py",
   "mimetype": "text/x-python",
   "name": "python",
   "nbconvert_exporter": "python",
   "pygments_lexer": "ipython3",
   "version": "3.8.5"
  }
 },
 "nbformat": 4,
 "nbformat_minor": 1
}

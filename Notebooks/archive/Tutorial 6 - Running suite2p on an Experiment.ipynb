{
 "cells": [
  {
   "cell_type": "code",
   "execution_count": 1,
   "id": "06c152e4",
   "metadata": {},
   "outputs": [
    {
     "name": "stdout",
     "output_type": "stream",
     "text": [
      "Warning: cellpose did not import\n",
      "No module named 'cellpose'\n",
      "cannot use anatomical mode, but otherwise suite2p will run normally\n"
     ]
    }
   ],
   "source": [
    "import packerlabimaging as pkg"
   ]
  },
  {
   "cell_type": "code",
   "execution_count": 3,
   "id": "999d737f",
   "metadata": {},
   "outputs": [
    {
     "data": {
      "text/plain": [
       "packerlabimaging._utils.Utils"
      ]
     },
     "execution_count": 3,
     "metadata": {},
     "output_type": "execute_result"
    }
   ],
   "source": [
    "pkg.Utils"
   ]
  },
  {
   "cell_type": "code",
   "execution_count": 4,
   "id": "0265f1dc",
   "metadata": {},
   "outputs": [
    {
     "data": {
      "text/plain": [
       "<function packerlabimaging._utils.Utils.s2pRun(expobj, user_batch_size=2000, trialsSuite2P: list = None, **kwargs)>"
      ]
     },
     "execution_count": 4,
     "metadata": {},
     "output_type": "execute_result"
    }
   ],
   "source": [
    "pkg.Utils.s2pRun"
   ]
  },
  {
   "cell_type": "code",
   "execution_count": null,
   "id": "d220d3da",
   "metadata": {},
   "outputs": [],
   "source": [
    "# updating ops fields as an optional action"
   ]
  }
 ],
 "metadata": {
  "kernelspec": {
   "display_name": "Python 3 (ipykernel)",
   "language": "python",
   "name": "python3"
  },
  "language_info": {
   "codemirror_mode": {
    "name": "ipython",
    "version": 3
   },
   "file_extension": ".py",
   "mimetype": "text/x-python",
   "name": "python",
   "nbconvert_exporter": "python",
   "pygments_lexer": "ipython3",
   "version": "3.9.7"
  }
 },
 "nbformat": 4,
 "nbformat_minor": 5
}
